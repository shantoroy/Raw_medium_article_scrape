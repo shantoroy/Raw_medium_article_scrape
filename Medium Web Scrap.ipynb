{
 "cells": [
  {
   "cell_type": "code",
   "execution_count": 2,
   "metadata": {},
   "outputs": [],
   "source": [
    "import time\n",
    "from bs4 import BeautifulSoup\n",
    "from selenium import webdriver\n",
    "import pandas as pd\n",
    "import urllib.request"
   ]
  },
  {
   "cell_type": "code",
   "execution_count": 90,
   "metadata": {},
   "outputs": [],
   "source": [
    "ethereum = \"https://medium.com/search?q=ethereum\""
   ]
  },
  {
   "cell_type": "code",
   "execution_count": 91,
   "metadata": {},
   "outputs": [],
   "source": [
    "driver = webdriver.Chrome('/home/mrx/Downloads/chromedriver')\n",
    "\n",
    "driver.get(ethereum)\n",
    "\n",
    "\n",
    "res = driver.execute_script(\"return document.documentElement.outerHTML\")\n",
    "driver.quit()\n",
    "\n",
    "soup = BeautifulSoup(res, 'lxml')"
   ]
  },
  {
   "cell_type": "code",
   "execution_count": 92,
   "metadata": {},
   "outputs": [
    {
     "data": {
      "text/plain": [
       "['https://medium.com/@preethikasireddy/how-does-ethereum-work-anyway-22d1df506369?source=search_post---------0',\n",
       " 'https://hackernoon.com/neo-versus-ethereum-why-neo-might-be-2018s-strongest-cryptocurrency-79956138bea3?source=search_post---------1',\n",
       " 'https://medium.freecodecamp.org/a-hacker-stole-31m-of-ether-how-it-happened-and-what-it-means-for-ethereum-9e5dc29e33ce?source=search_post---------2',\n",
       " 'https://hackernoon.com/ethereum-will-pass-bitcoin-in-2018-my-cryptocurrency-investment-portfolio-dcab52905bba?source=search_post---------3',\n",
       " 'https://hackernoon.com/cardano-ethereum-and-neo-killer-or-overhyped-and-overpriced-8fcd5f8abcdf?source=search_post---------4',\n",
       " 'https://medium.com/loom-network/ethereum-will-be-the-backbone-of-the-new-internet-88718e08124f?source=search_post---------5',\n",
       " 'https://blog.coinbase.com/a-beginners-guide-to-ethereum-46dd486ceecf?source=search_post---------6',\n",
       " 'https://medium.com/@ethereumlimited/ethereum-limited-private-sale-procedure-9401b7188841?source=search_post---------7',\n",
       " 'https://blog.enjincoin.io/announcing-enjinx-ad-free-user-friendly-ethereum-blockchain-explorer-3d679ba034c8?source=search_post---------8']"
      ]
     },
     "execution_count": 92,
     "metadata": {},
     "output_type": "execute_result"
    }
   ],
   "source": [
    "links=[]\n",
    "for my_tag in soup.find_all(class_=\"button button--smaller button--chromeless u-baseColor--buttonNormal\"):\n",
    "        links.append(my_tag.get('href'))\n",
    "links"
   ]
  },
  {
   "cell_type": "code",
   "execution_count": 74,
   "metadata": {},
   "outputs": [],
   "source": [
    "link = \"https://hackernoon.com/neo-versus-ethereum-why-neo-might-be-2018s-strongest-cryptocurrency-79956138bea3\"\n",
    "\n",
    "page = urllib.request.Request(link, headers={'User-Agent': 'Mozilla/5.0'})\n",
    "raw_page_data = urllib.request.urlopen(page).read()\n",
    "page_soup = BeautifulSoup(raw_page_data, 'html.parser')\n"
   ]
  },
  {
   "cell_type": "code",
   "execution_count": 75,
   "metadata": {},
   "outputs": [
    {
     "data": {
      "text/plain": [
       "'NEO versus Ethereum: Why NEO might be 2018’s strongest cryptocurrency'"
      ]
     },
     "execution_count": 75,
     "metadata": {},
     "output_type": "execute_result"
    }
   ],
   "source": [
    "for my_tag in page_soup.find_all(True,{'class':['graf graf--h3 graf-after--figure graf--title','graf graf--h3 graf--leading graf--title','graf graf--h3 graf-after--figure graf--trailing graf--title']}):\n",
    "    title=my_tag.text\n",
    "title"
   ]
  },
  {
   "cell_type": "code",
   "execution_count": 85,
   "metadata": {},
   "outputs": [
    {
     "data": {
      "text/plain": [
       "'Noam Levenson'"
      ]
     },
     "execution_count": 85,
     "metadata": {},
     "output_type": "execute_result"
    }
   ],
   "source": [
    "for my_tag in page_soup.find_all(class_=\"ds-link ds-link--styleSubtle ui-captionStrong u-inlineBlock link link--darken link--darker\"):\n",
    "    name=my_tag.text\n",
    "name"
   ]
  },
  {
   "cell_type": "code",
   "execution_count": 77,
   "metadata": {},
   "outputs": [
    {
     "data": {
      "text/plain": [
       "'25 min read'"
      ]
     },
     "execution_count": 77,
     "metadata": {},
     "output_type": "execute_result"
    }
   ],
   "source": [
    "for my_tag in page_soup.find_all(class_=\"readingTime\"):\n",
    "    read = my_tag.get('title')\n",
    "read"
   ]
  },
  {
   "cell_type": "code",
   "execution_count": 78,
   "metadata": {},
   "outputs": [
    {
     "data": {
      "text/plain": [
       "'Dec 6, 2017'"
      ]
     },
     "execution_count": 78,
     "metadata": {},
     "output_type": "execute_result"
    }
   ],
   "source": [
    "for my_tag in page_soup.find_all('time'):\n",
    "    date = my_tag.text\n",
    "date"
   ]
  },
  {
   "cell_type": "code",
   "execution_count": 97,
   "metadata": {},
   "outputs": [
    {
     "data": {
      "text/plain": [
       "'91K'"
      ]
     },
     "execution_count": 97,
     "metadata": {},
     "output_type": "execute_result"
    }
   ],
   "source": [
    "for my_tag in page_soup.find_all('span',{'class':'u-relative u-background js-actionMultirecommendCount u-marginLeft5'}):\n",
    "    upvotes=my_tag.text\n",
    "upvotes"
   ]
  },
  {
   "cell_type": "code",
   "execution_count": 80,
   "metadata": {},
   "outputs": [
    {
     "data": {
      "text/plain": [
       "'This article is long because I have chewed through all the information I could find about NEO and Ethereum and digested it for you. There are lots of articles summarizing the “differences” between Ethereum and NEO, but they do the debate little justice. They skim over things, don’t explore them well, explore only one aspect, or aren’t holistic in their analysis and don’t explain why the differences even matter and what their relevance to the real world is. I was frustrated by the lack of a comprehensive article. This article is my response.I will admit that I explore NEO more in-depth than Ethereum. This is because so much information is widely available for Ethereum. With NEO, there is much less. As such, I focus on explaining NEO and then comparing that explanation to Ethereum’s capability.So bear with me, grab yourself an espresso and lock yourself in that room you “do work in.” This will be well worth your time. I also won’t blame you if you just read the TLDR\\u200a—\\u200aToo Lazy, Didn’t Read\\u200a—\\u200aunder the articles.Ultimately, NEO and Ethereum are aiming for similar roles in the crypto community. Both want to be platforms for the new internet: for DApps (Decentralized Applications), ICOs (Initial Coin Offerings), and smart contracts.That’s a mouthful. Let’s breakdown these objectives to fully understand the projects. It’s important to understand that both platforms share many of the same capabilities, but the distinction in their branded objectives is very important.Ethereum: Ethereum’s goal is to be the platform for DApps and they are largely accomplishing this. They own the DApp market right now. Their roadmap is all about giving users and developers more control and more options in developing their applications.NEO: NEO is working towards developing a product for the future. It not only rebranded from Antshares to NEO in June of 2017, but they refocused their marketing as well\\u200a—\\u200awith enormous success. Neo’s objective, while ultimately utilizing many of the same technologies as Ethereum, is to be the platform for a new smart economy.In short: Ethereum is developing in response to new demands. NEO is developing their platform in anticipation of future demands.A smart economy will feature digitized physical assets. All of these newly digitized assets will have proof of ownership in the blockchain. These assets can be sold, traded, and leveraged through smart contracts. Their ownership can be protected and validated through the decentralized model of the blockchain. We’ve already seen iterations of this: from proposed supply chain overhaul to DAOs (decentralized autonomous organizations\\u200a—\\u200aessentially decentralized companies without a leader). I offered some real world examples of this economy in this article. Now while Ethereum will likely support many of the same capabilities that NEO has, the distinction between Ethereum and NEO’s objectives is what we care about.TLDR: A smart economy is in our future. To accommodate the needs of this smart economy, the platform will need to be specifically designed for this new economy.To do this, they need:Today, digital identity is based on a system called the PKI (Public Key Infrastructure) X.509 standard. This probably means about as much as it does to you as it does to me. It just means that there is an international agreed upon standard for what constitutes a digital identity. NEO’s plan is to issue digital identities in accordance to this standard and then secure them using the blockchain. Bookkeepers (read about them later) will have digital identities and real names. Because of this, judicial action can be taken against them if ever need be. This is imperative when registering financial assets on the network and staying regulatory compliant.There could also be businesses and projects that will only transact with people who have a digital identity, for regulatory reasons. NEO enables that possibility.NEO is already working in a strategic partnership with THEKEY\\u200a—\\u200aa project being developed on NEO’s platform that will assist with providing digital identification.What about Ethereum: Ethereum requires other DApps to develop digital identities which can then be secured on the Ethereum blockchain. This isn’t so unlike how it will work with NEO\\u200a—\\u200ahowever NEO has made it clear, through its plan to incorporate digital identity with its bookkeeper nodes, that integration of digital identity is of central importance to the NEO ecosystem.TLDR: Governments don’t like anonymity. Industries don’t like pissing off the government. If NEO wants industrial adoption, it needs to have digital identities.What about Ethereum: Very similar to the digital identity blurb. Ethereum absolutely can secure digital assets, but they won’t necessarily be regulatory compliant. NEO is ensuring that issued digital asset certificates will be compliant.TDLR: Just read itUltimately, DNA develops public and private blockchains for businesses. These blockchains then link up to NEO to join the decentralized economy. Businesses then have all the benefits of both private and public blockchains. Think of NEO as providing the public blockchains and OnChain’s DNA providing the private blockchains. Then, they can link up and get the best of both worlds.OnChain also has several projects and partnerships and newsworthy mentions that all contribute to the DNA ecosystem:References on OnChain’s roadmapHonestly, I don’t understand why NEO doesn’t advertise their collaboration with OnChain more. NEO in itself is solid, offering several potential benefits over Ethereum. But combined with OnChain, NEO truly has the potential to implement itself as THE smart economy platform of the East.The Ethereum Comparison: Ethereum’s equivalent is the Enterprise Ethereum Alliance, an open source blockchain initiative dedicated to linking Ethereum with the business world. Their list of partnerships is robust and impressive\\u200a—\\u200ano surprise for those familiar with Ethereum. Included among their members are: BP, HP, Toyota, MasterCard, Microsoft, and Intel, among many others.TLDR: OnChain is a company partnered with NEO. They have extensive experience and many accolades in bringing blockchain to businesses. They work with companies and governments in the East. They are a huge component to NEO’s potential.NEOX is important because it allows collaboration between the blockchains (both private and public) created by OnChain and by NEO’s public blockchain. As more components of the Smart Economy develop, NEOX will link them all together.Ethereum Comparison: Ethereum has the ability to do atomic swaps, but has only completed this once\\u200a—\\u200athis isn’t to put down Ethereum; NEO has never completed one. However, Ethereum will need an outside application to accommodate large scale cross-chain integration.Ethereum Comparison: There isn’t really a good comparison for this on the Ethereum network.Because of differences with NEO in the token model, account balances, and way smart contract interact\\u200a—\\u200ain comparison to Ethereum\\u200a—\\u200aNEO needed a solution to be able to effectively house decentralized exchanges. NEX offers that solution.Ethereum Comparison: Already ERC20 tokens are easy to transact with on decentralized exchanges.Ethereum Comparison: TokenHub is a similar project developing on Ethereum.Ethereum Comparison: Ethereum is incredibly well connected with established corporations. NEO is playing catchup.Ethereum Comparison: Ethereum hands down beats NEO in this area. Ethereum is the go-to platform for ICOs and DApps.Proof of Stake works similarly to PoW except that instead of computers validating the network and receiving rewards equivalent to their relative computing power, PoS uses token holders. Those who hold tokens can “stake” their tokens (staking means to temporarily place the tokens in a locked smart contract\\u200a—\\u200auntil staking is over) and in exchange, confirm transactions and receive rewards based on the relative number of tokens held. In PoW, if you operate 5% of the total computing power of the network, you can expect to get 5% of the block rewards. In PoS, if you own 5% of tokens, you can also expect to receive 5% of block rewards.PoS offers a solution to the issues plaguing PoW\\u200a—\\u200amainly it takes virtually no energy to run PoS\\u200a—\\u200awithout compromising the security. I would argue that it actually improves security. With Ethereum, and all other PoW protocols, the difficulty algorithm (how hard it is to solve the mathematical formula) must constantly be updated to account for better computer hardware and more powerful mining groups. With PoS there is no need to do this. With Ethereum, you could conceivably purchase enough computing hardware to achieve a 51% attack; even after comprising the network, you would still have all of that hardware and could potentially use it to attack other PoW platforms. With PoS, because you must stake your coins, any malicious behavior results in the loss of all staked coins. So if you bought 51% of all tokens, you would immediately lose your substantial investment. In addition, the costs of purchasing 51% of the network tokens are equal for everyone. The costs of obtaining 51% of computer power\\u200a—\\u200adue to discounts for mass computer purchases and countries with extremely cheap electricity\\u200a—\\u200aare not.I imagine dBFT as working similar to how the U.S. Senate works (and if that analogy made you want to just give up on Neo entirely, I understand, but hold on…keep reading). If every person in America\\u200a—\\u200aall 323.1 million—was allowed to directly participate in the governmental decision making process, it would be catastrophic. It would be brutally slow as millions competed for the microphone, all shouting their opinion and arguing with each other. Making decisions would also be agonizingly slow. So instead, everyone in the country gets a vote. And with this vote, they can elect their representatives, someone to speak for them. This system directly reflects NEO’s governance. Instead of everyone participating in the validating process\\u200a—\\u200awhich can be incredibly limiting in terms of transaction speed\\u200a—\\u200athose who hold NEO tokens can vote for delegates. These delegates (called bookkeepers) maintain the network for everyone. Thus, NEO can run faster, more efficiently, and with quicker and more finite decisions, and you can stay home, drink Bud Light, and watch the Patriots game with your computer in sleep mode.Remember too that these bookkeepers will have their digital identity known, making NEO much more compliant with national regulations.The disadvantage with this system is a lack of decentralization. In its purest sense, instead of thousands of validators being scattered all across the world, governance is concentrated in a few dozen validators. The majority of these nodes are currently operated by the NEO team. However, as of Quarter 1, 2018, NEO will hold less than 2/3 and will continue to hold fewer as time progresses. Regardless, NEO will never be as decentralized as other pure PoS platforms.I would however argue that Ethereum is also not as decentralized as you might think. While the PoW protocol is decentralized, you can count the number of core developer’s for Ethereum on one hand. In addition, while I trust Vitalik Buterin, he does have enormous power and influence over the direction of Ethereum.Ethereum will transition to a PoS protocol in the future. They already have begun the process and the mining difficulty of confirming new blocks will increase exponentially until it is impossible to mine anymore and everyone must transition to the PoS protocol. This will happen but it is likely more than a year out.TLDR: Ethereum uses a Proof of Work protocol and will evolve into Proof of Stake. NEO uses a Delegated Byzantine Fault Tolerance (dBFT) protocol which is a modification of the standard proof of stake protocol.This is an enormous difference and a massive advantage for NEO. NEO’s transaction speeds could conceivably accommodate the kind of smart economy they’re envisioning; Ethereum’s can not. Now in exchange for this speed, NEO is not as decentralized as Ethereum. In addition, it’s important to recognize that Vitalik and Ethereum are well aware of this limitation. Solutions such as Raiden and sharding (two fascinating technologies but far beyond the scope of this article) are on the roadmap for Ethereum and could drastically improve Ethereum’s transaction speed.TLDR: Ethereum can transact at 15tps with a maximum of 30tps. NEO can transact at 1,000tps with a maximum of 10,000tps. Ethereum has plans and solutions to scale to close this gap.Forks happen because there is no finality in the consensus mechanism of Ethereum. Multiple chains in the blockchain can be created at once\\u200a—\\u200aultimately, both are valid chains and can continued to be mined on. Forks happen constantly but are usually resolved when the chain with the most computer power is chosen as legitimate. With Ethereum, it’s always recommended that when you place a transaction, you wait until a few blocks have been mined on top of yours before considering the transaction permanent.NEO has finality. This is because the bookkeepers must reach a 66% consensus for the transaction to be placed into the blockchain. Here is an analogy to understand this. Imagine a first grade class. Timmy asks how much chocolate milk costs. Cynthia has no concept of price (she’s in first grade for God’s sake) and shouts $15! A few students walk over to her in agreement. Bobby’s a chocolate milk aficionado\\u200a—\\u200ahe knows his milk. He says $1.25. Most of the room walks over to him. He has a majority. Now assuming Cynthia’s group realizes their flaw and joins Bobby’s group, then the group reaches consensus. But if Cynthia is having a particularly stubborn day, she could keep on with her decision\\u200a—\\u200aa fork. It might not be the right answer, but she still has a valid answer. This is how Ethereum works.The implications of this are huge. Finality is incredibly important for the type of economy NEO hopes to support. The financial industry and other complicated, fast moving markets (stock markets for example), can’t operate on a system without finality. They need to know that when their information is placed into the blockchain, it is there for good. They also need the assurance that their blockchain won’t suddenly become irrelevant because of a fork.TLDR: Ethereum can fork; NEO can’t\\u200a—\\u200athis is important for adoption by our real world economy.However, NEO decoupled itself from the token needed to run the network: GAS. The NEO token is like partial ownership of the NEO platform. NEO token holders are entitled to vote for bookkeepers. NEO’s use as a share in the company rather than a token is furthered by the fact that NEO is non-divisible. NEO is not meant to be transacted with\\u200a—\\u200athat’s why there is GAS.GAS is used for all operations on the NEO network. Now when a company registers or changes assets on the NEO blockchain, they pay in GAS\\u200a—\\u200athis GAS is then distributed to all NEO holders. Anyone can claim this GAS by just holding their NEO in a personal wallet. Such as this one: NEONBookkeepers are entitled to charge a transaction fee (in GAS) for general transactions on the blockchain that only they (the bookkeepers) receive. However, by decoupling NEO and GAS, there is an incentive to keep transaction fees low; here’s why:High transaction fees, which only benefit the bookkeepers, will prevent people from wanting to register their assets on the blockchain. The less assets registered, the less rewards NEO holders will get. Thus, NEO holders are incentivized to vote in bookkeepers who will keep transaction fees low.It is unclear how rewards will be divided amongst ether holders when Ethereum becomes Proof of Stake. However, it appears that only large Ethereum holders will be able to stake and receive rewards.Both NEO and GAS are capped at 100 million tokens.TLDR: Ethereum has one token: ether. NEO has two: NEO and GAS. There are huge advantages to having two tokens when using a proof of stake protocol.There are certainly advantages to crafting a particular language for a particular platform. Ethereum developers designed solidity for Ethereum. However, far fewer people know solidity. By supporting the most common coding languages, NEO has an advantage in facilitating adoption. Most programmers today would have to learn solidity before working with Ethereum whereas with NEO, their knowledge is already applicable. It’s also possible that existing business platforms could be placed onto the NEO blockchain without much modification.TLDR (seriously? It’s like two paragraphs): Ethereum has one coding language: Solidity. NEO supports many different coding languages.Ethereum plans to roll out this mechanism, but there is no timeline for it. Ultimately, this allows NEO to execute and run complex smart contracts faster and more efficiently than Ethereum.TLDR: NEO has a more efficient and faster way of executing smart contracts than Ethereum.Additionally, China’s political structure means that development can happen fast. They can evolve quickly and lead world renewable energy efforts because they are a one-party state. There is no balance of power and need to appeal to a divided voter base delaying development as there is in America.China knows that blockchain is going to be extraordinarily disruptive. They demonstrated this when they released their five-year blockchain plan. China banned exchanges and ICOs because they recognize the potential of blockchain. If they didn’t understand its significance, they never would have banned it. They banned it because they want to control it; because they will control it. They banned it to flex their muscles, establish their power, and give them time to formulate a plan for how and when they will move forward. It’s very difficult to influence things when adoption has come; it’s much easier to impose early restrictions and shape the direction of the disruption.When they have their plan, they will likely become the world’s leading country in blockchain technology. And with the capability for rapid economic development, when China opens up ICOs and blockchain development…look out.The question then is, what will China utilize? It’s possible that they design their own governmental blockchain services, but I think this is incredibly unlikely. China integrated with social media, not by banning it or by creating their own platform. Instead, they integrated by selectively banning western social media and directing the Chinese market to Tencent\\u200a—\\u200ain exchange, Tencent employs communist workers, stays regulatory compliant, and maintains the party’s censorship. And now, Tencent is bigger than Facebook. Thus, I believe that China will join the blockchain world by integrating with an already present platform; one with a willingness to work with the Chinese government; one with a focus and framework that will support governmental compliance. NEO and OnChain fit that mold. Their work and partnerships within China, NEO’s development and dedication to compliance, and their envisioned smart economy gives me confidence that when the day comes, NEO could be China’s platform.Recognize that this is my own opinion. Nothing is guaranteed, especially in the crypto space. All we can do is formulate a hypothesis and provide a strong supporting argument; I hope that I at least did that.However, if you do want to purchase, Binance is my favorite: linkFOLLOW me on Twitter: @noamlevensonHold down the clap button if you liked the content! It helps me gain exposure\\xa0.Clap 50 times!'"
      ]
     },
     "execution_count": 80,
     "metadata": {},
     "output_type": "execute_result"
    }
   ],
   "source": [
    "news_body = \"\"\n",
    "for paragraphs in page_soup.find_all(class_='graf graf--p graf-after--p'):\n",
    "    news_body+=paragraphs.text.rstrip().lstrip()\n",
    "news_body"
   ]
  },
  {
   "cell_type": "code",
   "execution_count": 86,
   "metadata": {},
   "outputs": [
    {
     "data": {
      "text/plain": [
       "'155'"
      ]
     },
     "execution_count": 86,
     "metadata": {},
     "output_type": "execute_result"
    }
   ],
   "source": [
    "for my_tag in page_soup.find_all('button',{'class':'button button--chromeless u-baseColor--buttonNormal u-marginRight12'}):\n",
    "    res=my_tag.text\n",
    "res"
   ]
  },
  {
   "cell_type": "code",
   "execution_count": null,
   "metadata": {},
   "outputs": [],
   "source": []
  },
  {
   "cell_type": "code",
   "execution_count": null,
   "metadata": {},
   "outputs": [],
   "source": []
  },
  {
   "cell_type": "code",
   "execution_count": 89,
   "metadata": {},
   "outputs": [
    {
     "data": {
      "text/html": [
       "<div>\n",
       "<style scoped>\n",
       "    .dataframe tbody tr th:only-of-type {\n",
       "        vertical-align: middle;\n",
       "    }\n",
       "\n",
       "    .dataframe tbody tr th {\n",
       "        vertical-align: top;\n",
       "    }\n",
       "\n",
       "    .dataframe thead th {\n",
       "        text-align: right;\n",
       "    }\n",
       "</style>\n",
       "<table border=\"1\" class=\"dataframe\">\n",
       "  <thead>\n",
       "    <tr style=\"text-align: right;\">\n",
       "      <th></th>\n",
       "      <th>A</th>\n",
       "      <th>B</th>\n",
       "      <th>C</th>\n",
       "      <th>D</th>\n",
       "      <th>E</th>\n",
       "      <th>F</th>\n",
       "      <th>G</th>\n",
       "      <th>H</th>\n",
       "    </tr>\n",
       "  </thead>\n",
       "  <tbody>\n",
       "  </tbody>\n",
       "</table>\n",
       "</div>"
      ],
      "text/plain": [
       "Empty DataFrame\n",
       "Columns: [A, B, C, D, E, F, G, H]\n",
       "Index: []"
      ]
     },
     "execution_count": 89,
     "metadata": {},
     "output_type": "execute_result"
    }
   ],
   "source": [
    "init_dataframe = pd.DataFrame(columns=['A', 'B', 'C', 'D', 'E', 'F', 'G', 'H'])\n",
    "init_dataframe"
   ]
  },
  {
   "cell_type": "code",
   "execution_count": 96,
   "metadata": {},
   "outputs": [
    {
     "ename": "ValueError",
     "evalue": "If using all scalar values, you must pass an index",
     "output_type": "error",
     "traceback": [
      "\u001b[0;31m---------------------------------------------------------------------------\u001b[0m",
      "\u001b[0;31mValueError\u001b[0m                                Traceback (most recent call last)",
      "\u001b[0;32m<ipython-input-96-50bfa1f4c569>\u001b[0m in \u001b[0;36m<module>\u001b[0;34m\u001b[0m\n\u001b[1;32m      6\u001b[0m                                         \u001b[0;34m'6.Upvotes'\u001b[0m\u001b[0;34m:\u001b[0m \u001b[0mupvotes\u001b[0m\u001b[0;34m,\u001b[0m\u001b[0;34m\u001b[0m\u001b[0;34m\u001b[0m\u001b[0m\n\u001b[1;32m      7\u001b[0m                                         \u001b[0;34m'7.Contents'\u001b[0m\u001b[0;34m:\u001b[0m \u001b[0mnews_body\u001b[0m\u001b[0;34m,\u001b[0m\u001b[0;34m\u001b[0m\u001b[0;34m\u001b[0m\u001b[0m\n\u001b[0;32m----> 8\u001b[0;31m                                         '8.Comments': res})\n\u001b[0m",
      "\u001b[0;32m~/miniconda3/envs/venv_notebooks/lib/python3.6/site-packages/pandas/core/frame.py\u001b[0m in \u001b[0;36m__init__\u001b[0;34m(self, data, index, columns, dtype, copy)\u001b[0m\n\u001b[1;32m    390\u001b[0m                                  dtype=dtype, copy=copy)\n\u001b[1;32m    391\u001b[0m         \u001b[0;32melif\u001b[0m \u001b[0misinstance\u001b[0m\u001b[0;34m(\u001b[0m\u001b[0mdata\u001b[0m\u001b[0;34m,\u001b[0m \u001b[0mdict\u001b[0m\u001b[0;34m)\u001b[0m\u001b[0;34m:\u001b[0m\u001b[0;34m\u001b[0m\u001b[0;34m\u001b[0m\u001b[0m\n\u001b[0;32m--> 392\u001b[0;31m             \u001b[0mmgr\u001b[0m \u001b[0;34m=\u001b[0m \u001b[0minit_dict\u001b[0m\u001b[0;34m(\u001b[0m\u001b[0mdata\u001b[0m\u001b[0;34m,\u001b[0m \u001b[0mindex\u001b[0m\u001b[0;34m,\u001b[0m \u001b[0mcolumns\u001b[0m\u001b[0;34m,\u001b[0m \u001b[0mdtype\u001b[0m\u001b[0;34m=\u001b[0m\u001b[0mdtype\u001b[0m\u001b[0;34m)\u001b[0m\u001b[0;34m\u001b[0m\u001b[0;34m\u001b[0m\u001b[0m\n\u001b[0m\u001b[1;32m    393\u001b[0m         \u001b[0;32melif\u001b[0m \u001b[0misinstance\u001b[0m\u001b[0;34m(\u001b[0m\u001b[0mdata\u001b[0m\u001b[0;34m,\u001b[0m \u001b[0mma\u001b[0m\u001b[0;34m.\u001b[0m\u001b[0mMaskedArray\u001b[0m\u001b[0;34m)\u001b[0m\u001b[0;34m:\u001b[0m\u001b[0;34m\u001b[0m\u001b[0;34m\u001b[0m\u001b[0m\n\u001b[1;32m    394\u001b[0m             \u001b[0;32mimport\u001b[0m \u001b[0mnumpy\u001b[0m\u001b[0;34m.\u001b[0m\u001b[0mma\u001b[0m\u001b[0;34m.\u001b[0m\u001b[0mmrecords\u001b[0m \u001b[0;32mas\u001b[0m \u001b[0mmrecords\u001b[0m\u001b[0;34m\u001b[0m\u001b[0;34m\u001b[0m\u001b[0m\n",
      "\u001b[0;32m~/miniconda3/envs/venv_notebooks/lib/python3.6/site-packages/pandas/core/internals/construction.py\u001b[0m in \u001b[0;36minit_dict\u001b[0;34m(data, index, columns, dtype)\u001b[0m\n\u001b[1;32m    210\u001b[0m         \u001b[0marrays\u001b[0m \u001b[0;34m=\u001b[0m \u001b[0;34m[\u001b[0m\u001b[0mdata\u001b[0m\u001b[0;34m[\u001b[0m\u001b[0mk\u001b[0m\u001b[0;34m]\u001b[0m \u001b[0;32mfor\u001b[0m \u001b[0mk\u001b[0m \u001b[0;32min\u001b[0m \u001b[0mkeys\u001b[0m\u001b[0;34m]\u001b[0m\u001b[0;34m\u001b[0m\u001b[0;34m\u001b[0m\u001b[0m\n\u001b[1;32m    211\u001b[0m \u001b[0;34m\u001b[0m\u001b[0m\n\u001b[0;32m--> 212\u001b[0;31m     \u001b[0;32mreturn\u001b[0m \u001b[0marrays_to_mgr\u001b[0m\u001b[0;34m(\u001b[0m\u001b[0marrays\u001b[0m\u001b[0;34m,\u001b[0m \u001b[0mdata_names\u001b[0m\u001b[0;34m,\u001b[0m \u001b[0mindex\u001b[0m\u001b[0;34m,\u001b[0m \u001b[0mcolumns\u001b[0m\u001b[0;34m,\u001b[0m \u001b[0mdtype\u001b[0m\u001b[0;34m=\u001b[0m\u001b[0mdtype\u001b[0m\u001b[0;34m)\u001b[0m\u001b[0;34m\u001b[0m\u001b[0;34m\u001b[0m\u001b[0m\n\u001b[0m\u001b[1;32m    213\u001b[0m \u001b[0;34m\u001b[0m\u001b[0m\n\u001b[1;32m    214\u001b[0m \u001b[0;34m\u001b[0m\u001b[0m\n",
      "\u001b[0;32m~/miniconda3/envs/venv_notebooks/lib/python3.6/site-packages/pandas/core/internals/construction.py\u001b[0m in \u001b[0;36marrays_to_mgr\u001b[0;34m(arrays, arr_names, index, columns, dtype)\u001b[0m\n\u001b[1;32m     49\u001b[0m     \u001b[0;31m# figure out the index, if necessary\u001b[0m\u001b[0;34m\u001b[0m\u001b[0;34m\u001b[0m\u001b[0;34m\u001b[0m\u001b[0m\n\u001b[1;32m     50\u001b[0m     \u001b[0;32mif\u001b[0m \u001b[0mindex\u001b[0m \u001b[0;32mis\u001b[0m \u001b[0;32mNone\u001b[0m\u001b[0;34m:\u001b[0m\u001b[0;34m\u001b[0m\u001b[0;34m\u001b[0m\u001b[0m\n\u001b[0;32m---> 51\u001b[0;31m         \u001b[0mindex\u001b[0m \u001b[0;34m=\u001b[0m \u001b[0mextract_index\u001b[0m\u001b[0;34m(\u001b[0m\u001b[0marrays\u001b[0m\u001b[0;34m)\u001b[0m\u001b[0;34m\u001b[0m\u001b[0;34m\u001b[0m\u001b[0m\n\u001b[0m\u001b[1;32m     52\u001b[0m     \u001b[0;32melse\u001b[0m\u001b[0;34m:\u001b[0m\u001b[0;34m\u001b[0m\u001b[0;34m\u001b[0m\u001b[0m\n\u001b[1;32m     53\u001b[0m         \u001b[0mindex\u001b[0m \u001b[0;34m=\u001b[0m \u001b[0mensure_index\u001b[0m\u001b[0;34m(\u001b[0m\u001b[0mindex\u001b[0m\u001b[0;34m)\u001b[0m\u001b[0;34m\u001b[0m\u001b[0;34m\u001b[0m\u001b[0m\n",
      "\u001b[0;32m~/miniconda3/envs/venv_notebooks/lib/python3.6/site-packages/pandas/core/internals/construction.py\u001b[0m in \u001b[0;36mextract_index\u001b[0;34m(data)\u001b[0m\n\u001b[1;32m    306\u001b[0m \u001b[0;34m\u001b[0m\u001b[0m\n\u001b[1;32m    307\u001b[0m         \u001b[0;32mif\u001b[0m \u001b[0;32mnot\u001b[0m \u001b[0mindexes\u001b[0m \u001b[0;32mand\u001b[0m \u001b[0;32mnot\u001b[0m \u001b[0mraw_lengths\u001b[0m\u001b[0;34m:\u001b[0m\u001b[0;34m\u001b[0m\u001b[0;34m\u001b[0m\u001b[0m\n\u001b[0;32m--> 308\u001b[0;31m             raise ValueError('If using all scalar values, you must pass'\n\u001b[0m\u001b[1;32m    309\u001b[0m                              ' an index')\n\u001b[1;32m    310\u001b[0m \u001b[0;34m\u001b[0m\u001b[0m\n",
      "\u001b[0;31mValueError\u001b[0m: If using all scalar values, you must pass an index"
     ]
    }
   ],
   "source": [
    "data_frame = pd.DataFrame({'1.Tag': 'Ethereum',\n",
    "                                        '2.Title': title,\n",
    "                                        '3.Name': name,\n",
    "                                        '4.Date': date,\n",
    "                                        '5.Readtime': read,\n",
    "                                        '6.Upvotes': upvotes,\n",
    "                                        '7.Contents': news_body,\n",
    "                                        '8.Comments': res})"
   ]
  },
  {
   "cell_type": "code",
   "execution_count": null,
   "metadata": {},
   "outputs": [],
   "source": []
  }
 ],
 "metadata": {
  "kernelspec": {
   "display_name": "Python 3",
   "language": "python",
   "name": "python3"
  },
  "language_info": {
   "codemirror_mode": {
    "name": "ipython",
    "version": 3
   },
   "file_extension": ".py",
   "mimetype": "text/x-python",
   "name": "python",
   "nbconvert_exporter": "python",
   "pygments_lexer": "ipython3",
   "version": "3.6.8"
  }
 },
 "nbformat": 4,
 "nbformat_minor": 2
}
