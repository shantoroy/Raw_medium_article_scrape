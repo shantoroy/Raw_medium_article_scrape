{
 "cells": [
  {
   "cell_type": "code",
   "execution_count": 124,
   "metadata": {},
   "outputs": [],
   "source": [
    "from bs4 import BeautifulSoup\n",
    "import requests\n",
    "import json"
   ]
  },
  {
   "cell_type": "code",
   "execution_count": 233,
   "metadata": {},
   "outputs": [],
   "source": [
    "class AuthorDetails(object):   \n",
    "    \n",
    "    def __init__(self, soup):\n",
    "        self.page_soup = soup\n",
    "        \n",
    "    def get_author_name(self):\n",
    "        class_names = [\"ui-h2 hero-title\",\n",
    "                      \"ck z cl aw cm ax cn co cp k\",\n",
    "                      \"cu z cv aw cw ax cx cy cz k\"]\n",
    "        try:\n",
    "            for my_tag in self.page_soup.find_all(True, {'class': class_names}):\n",
    "                name = my_tag.text\n",
    "                return name\n",
    "        except Exception as e:\n",
    "            error_trace = {}\n",
    "            error_trace[\"link\"] = self.link\n",
    "            error_trace[\"method\"] = \"get_title\"\n",
    "            error_trace[\"message\"] = str(e)\n",
    "            print(json.dumps(error_trace, indent=4))\n",
    "        return \"\"\n",
    "        \n",
    "    def get_author_follow_lists(self):\n",
    "        class_names = [\"ag ah ai aj ak al am an ao ap cx as at au av\",\n",
    "                      \"button button--chromeless u-baseColor--buttonNormal\",\n",
    "                      \"ag ah ai aj ak al am an ao ap cw as at au av\",\n",
    "                      \"ag ah ai aj ak al am an ao ap di as at au av\"]\n",
    "        texts = []\n",
    "        try:\n",
    "            for my_tag in self.page_soup.find_all(True, {'class': class_names}):\n",
    "                texts.append(my_tag.text)\n",
    "            return texts\n",
    "        except Exception as e:\n",
    "            error_trace = {}\n",
    "            error_trace[\"link\"] = self.link\n",
    "            error_trace[\"method\"] = \"get_title\"\n",
    "            error_trace[\"message\"] = str(e)\n",
    "            print(json.dumps(error_trace, indent=4))\n",
    "        return \"\"\n",
    "    \n",
    "    def get_following(self):\n",
    "        following = self.get_author_follow_lists()\n",
    "        for i in following:\n",
    "            if \"Following\" in i:\n",
    "                return i.replace(\" Following\",\"\")\n",
    "            \n",
    "    def get_followers(self):\n",
    "        followers = self.get_author_follow_lists()\n",
    "        for i in followers:\n",
    "            if \"Followers\" in i:\n",
    "                return i.replace(\" Followers\",\"\")\n",
    "            \n",
    "    def other_posts_in_homepage(self):\n",
    "        class_names = [\"ez fa ck ax aw cm fb fc fd\", \n",
    "                      \"graf graf--h3 graf-after--figure graf--title\",\n",
    "                      \"fd fe ck ax aw cm ff fg fh\",\n",
    "                      \"ff fg ck ax aw cm fh fi fj\",\n",
    "                      \"ey ez ck ax aw cm fa fb fc\",\n",
    "                      \"fs ft cu ax aw cw fu fv fw\",\n",
    "                      \"ew ex ck ax aw cm ey ez fa\",\n",
    "                      \"fh fi ck ax aw cm fj fk fl\",\n",
    "                      \"fe ff ck ax aw cm fg fh fi\",\n",
    "                      \"ev ew ck ax aw cm ex ey ez\",\n",
    "                      \"fl fm cu ax aw cw fn fo fp\"]\n",
    "        titles = []\n",
    "        try:\n",
    "            for my_tag in self.page_soup.find_all(True, {'class': class_names}):\n",
    "                titles.append(my_tag.text)\n",
    "            return titles\n",
    "        except Exception as e:\n",
    "            error_trace = {}\n",
    "            error_trace[\"link\"] = self.link\n",
    "            error_trace[\"method\"] = \"get_title\"\n",
    "            error_trace[\"message\"] = str(e)\n",
    "            print(json.dumps(error_trace, indent=4))\n",
    "        return \"\""
   ]
  },
  {
   "cell_type": "code",
   "execution_count": 234,
   "metadata": {},
   "outputs": [
    {
     "name": "stdout",
     "output_type": "stream",
     "text": [
      "DK\n",
      "72\n",
      "7.1K\n",
      "['Crypto and bitcoin adoption — How far along are we really in this rally?', 'Bitcoin price — bottom searching continues', 'Bitcoin\\u200a—\\u200ahave we seen the bottom?', 'Bitcoin’s viability as a currency for a major economy']\n"
     ]
    }
   ],
   "source": [
    "if __name__=='__main__':\n",
    "    headers = requests.utils.default_headers()\n",
    "    headers.update({\n",
    "            'User-Agent': 'Mozilla/5.0 (X11; Ubuntu; Linux x86_64; rv:52.0) Gecko/20100101 Firefox/52.0',\n",
    "        })\n",
    "    link = \"https://medium.com/@dennyk\"\n",
    "    #link = \"https://medium.com/@merunasgrincalaitis\"\n",
    "    #link = \"https://medium.com/@netomoritz\"\n",
    "    request_link = requests.get(link, headers=headers)\n",
    "    request_content = BeautifulSoup(request_link.content,'html.parser')\n",
    "\n",
    "    author = AuthorDetails(request_content)\n",
    "    print(author.get_author_name())\n",
    "    print(author.get_following())\n",
    "    print(author.get_followers())\n",
    "    print(author.other_posts_in_homepage())"
   ]
  },
  {
   "cell_type": "code",
   "execution_count": 232,
   "metadata": {},
   "outputs": [],
   "source": [
    "with open(\"test.txt\",'w') as f:\n",
    "    f.write(str(request_content))"
   ]
  },
  {
   "cell_type": "code",
   "execution_count": 236,
   "metadata": {},
   "outputs": [
    {
     "name": "stdout",
     "output_type": "stream",
     "text": [
      "thenandnow\n",
      "debate\n",
      "nowplaying\n",
      "job\n",
      "PBS\n"
     ]
    }
   ],
   "source": [
    "mylist = [u'nowplaying', u'PBS', u'PBS', u'nowplaying', u'job', u'debate', u'thenandnow']\n",
    "myset = set(mylist)\n",
    "for i in myset:\n",
    "    print(i)"
   ]
  },
  {
   "cell_type": "code",
   "execution_count": null,
   "metadata": {},
   "outputs": [],
   "source": []
  },
  {
   "cell_type": "code",
   "execution_count": null,
   "metadata": {},
   "outputs": [],
   "source": []
  }
 ],
 "metadata": {
  "kernelspec": {
   "display_name": "Python 3",
   "language": "python",
   "name": "python3"
  },
  "language_info": {
   "codemirror_mode": {
    "name": "ipython",
    "version": 3
   },
   "file_extension": ".py",
   "mimetype": "text/x-python",
   "name": "python",
   "nbconvert_exporter": "python",
   "pygments_lexer": "ipython3",
   "version": "3.6.8"
  }
 },
 "nbformat": 4,
 "nbformat_minor": 2
}
