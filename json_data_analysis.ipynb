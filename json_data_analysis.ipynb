{
 "cells": [
  {
   "cell_type": "code",
   "execution_count": 168,
   "metadata": {},
   "outputs": [],
   "source": [
    "import json\n",
    "file_name = \"result.json\""
   ]
  },
  {
   "cell_type": "markdown",
   "metadata": {},
   "source": [
    "Read from a JSON file"
   ]
  },
  {
   "cell_type": "code",
   "execution_count": 169,
   "metadata": {},
   "outputs": [],
   "source": [
    "with open(file_name, \"r\") as f:\n",
    "    data = json.load(f)"
   ]
  },
  {
   "cell_type": "markdown",
   "metadata": {},
   "source": [
    "Print values of every key"
   ]
  },
  {
   "cell_type": "code",
   "execution_count": 171,
   "metadata": {},
   "outputs": [
    {
     "data": {
      "text/plain": [
       "281"
      ]
     },
     "execution_count": 171,
     "metadata": {},
     "output_type": "execute_result"
    }
   ],
   "source": [
    "count=0\n",
    "for key in data:\n",
    "    count+=1\n",
    "count"
   ]
  },
  {
   "cell_type": "code",
   "execution_count": 130,
   "metadata": {},
   "outputs": [
    {
     "name": "stdout",
     "output_type": "stream",
     "text": [
      "How does Ethereum work, anyway?\n"
     ]
    }
   ],
   "source": [
    "print(data[0]['title'])"
   ]
  },
  {
   "cell_type": "code",
   "execution_count": 167,
   "metadata": {},
   "outputs": [
    {
     "name": "stdout",
     "output_type": "stream",
     "text": [
      "373\n"
     ]
    }
   ],
   "source": [
    "relevant = 0\n",
    "tag = \"ethereum\"\n",
    "for key in data:\n",
    "    if tag in key['title'].lower():\n",
    "        relevant += 1\n",
    "print(relevant)"
   ]
  },
  {
   "cell_type": "code",
   "execution_count": 166,
   "metadata": {},
   "outputs": [
    {
     "name": "stdout",
     "output_type": "stream",
     "text": [
      "[['ethereum', 4187], ['blockchain', 1582], ['contract', 1188], ['—', 1176], ['but', 1021], ['network', 848], ['smart', 818], ['transaction', 814], ['bitcoin', 767], ['like', 534], ['transactions', 532], ['contracts', 491], ['block', 478], ['tokens', 421], ['gas', 405], ['token', 405], ['wallet', 395], ['how', 392], ['account', 391], ['about', 370], ['function', 367], ['it’s', 347], ['decentralized', 343], ['address', 340], ['platform', 328], ['there', 323], ['eth', 291], ['value', 286], ['private', 264], ['key', 261], ['just', 255], ['ether', 251], ['can', 242], ['public', 241], ['user', 231], ['nodes', 219], ['users', 215], ['only', 213], ['protocol', 212], ['price', 210], ['chain', 205], ['system', 203], ['solidity', 203], ['using', 196], ['people', 195], ['file', 188], ['developers', 184], ['truffle', 182], ['digital', 175], ['proof', 170], ['market', 165], ['neo', 164], ['etc', 147], ['them', 145], ['storage', 143], ['applications', 142], ['game', 139], ['than', 130], ['first', 130], ['most', 127], ['application', 125], ['trading', 124], ['1', 122], ['see', 121], ['coinbase', 121], ['time', 120], ['crypto', 117], ['ico', 116], ['dai', 116], ['were', 114], ['number', 110], ['world', 110], ['client', 110], ['because', 109], ['technology', 109], ['web', 109], ['funds', 106], ['dapp', 104], ['community', 103], ['beacon', 102], ['been', 100], ['mining', 100], ['build', 98], ['erc20', 98], ['development', 97], ['casper', 97], ['hard', 95], ['cryptocurrency', 94], ['shard', 94], ['hash', 93], ['want', 93], ['store', 91], ['functions', 91], ['work', 91], ['sharding', 89], ['bir', 89], ['ethereum’s', 88], ['much', 87], ['classic', 86], ['amount', 85], ['cardano', 85], ['addresses', 84], ['layer', 82], ['money', 82], ['exchange', 82], ['same', 81], ['cost', 81], ['create', 80], ['dapps', 79], ['order', 79], ['even', 76], ['call', 76], ['geth', 76], ['fork', 74], ['who', 72], ['wallets', 72], ['usd', 72], ['not', 72], ['don’t', 71], ['run', 71], ['project', 70], ['language', 70], ['return', 70], ['very', 70], ['assets', 69], ['building', 69], ['being', 68], ['software', 68], ['per', 67], ['metamask', 67], ['security', 66], ['test', 66], ['c', 66], ['ipfs', 66], ['coins', 65], ['2018', 65], ['top', 64], ['currency', 64], ['machine', 63], ['accounts', 62], ['consensys', 62], ['consensus', 62], ['future', 61], ['million', 60], ['bytes', 59], ['built', 58], ['var', 58], ['such', 58], ['stake', 58], ['payment', 58], ['eos', 58], ['ecosystem', 57], ['where', 56], ['computer', 56], ['validators', 56], ['note', 56], ['scalability', 54], ['us', 54], ['channel', 54], ['keystore', 54], ['bu', 54], ['attack', 53], ['blocks', 53], ['scaling', 53], ['click', 53], ['service', 53], ['pos', 53], ['multisig', 53], ['nonce', 52], ['part', 52], ['buy', 52], ['testrpc', 51], ['server', 51], ['might', 51], ['onchain', 51], ['app', 50], ['he', 50], ['20', 50], ['cryptocurrencies', 50], ['me', 50], ['things', 49], ['customers', 49], ['going', 49], ['internet', 49], ['trie', 49], ['tools', 49], ['coin', 48], ['while', 48], ['financial', 48], ['player', 48], ['current', 47], ['support', 47], ['gold', 47], ['article', 47], ['projects', 47], ['after', 47], ['uint256', 47], ['b', 47], ['f', 47], ['we’re', 47], ['own', 46], ['start', 46], ['economic', 45], ['zcash', 45], ['learning', 45], ['through', 44], ['send', 44], ['channels', 44], ['bytecode', 44], ['shards', 44], ['library', 44], ['core', 43], ['between', 43], ['add', 43], ['btc', 43], ['0x0', 43], ['owner', 43], ['sender', 42], ['decentralization', 42], ['foundation', 42], ['still', 42], ['payments', 42], ['events', 42], ['two', 42], ['array', 42], ['variables', 42], ['items', 42], ['execution', 41], ['platforms', 41], ['simple', 41], ['dao', 41], ['trust', 41], ['transfer', 41], ['services', 41], ['am', 41], ['networks', 41], ['2017', 40], ['now', 40], ['different', 40], ['database', 40], ['limit', 40], ['enterprise', 40], ['bob', 40], ['launch', 39], ['infrastructure', 39], ['understand', 39], ['privacy', 39], ['validator', 39], ['blockchains', 39], ['model', 39], ['games', 39], ['stored', 39], ['uint', 39], ['team', 38], ['i’m', 38], ['reputation', 38], ['evm', 38], ['message', 38], ['light', 38], ['year', 37], ['that’s', 37], ['both', 37], ['pay', 37], ['password', 37], ['ethos', 37], ['secret', 37], ['bitcoin’s', 36], ['miners', 36], ['event', 36], ['0', 36], ['constantinople', 35], ['bancor', 35], ['alice', 35], ['external', 35], ['programming', 34], ['vote', 34], ['full', 34], ['players', 34], ['read', 33], ['version', 33], ['orders', 33], ['proxy', 33], ['real', 33], ['infura', 33], ['một', 33], ['2', 32], ['web3js', 32], ['day', 32], ['mechanism', 32], ['access', 32], ['utxos', 32], ['là', 32], ['investors', 31], ['icos', 31], ['identity', 31], ['utxo', 31], ['x', 31], ['51', 31], ['ex', 31], ['method', 30], ['asset', 30], ['best', 30], ['i', 30], ['running', 30], ['his', 30], ['pro', 30], ['communication', 30], ['society', 30], ['0xc0fefe', 30], ['deploy', 29], ['developer', 29], ['double', 29], ['working', 29], ['tutorial', 29], ['called', 29], ['buterin', 29], ['daily', 29], ['payther', 29], ['end', 29], ['position', 29], ['có', 29], ['candidate', 28], ['length', 28], ['source', 28], ['testnet', 28], ['fabric', 28], ['cdp', 28], ['process', 28], ['dfinity', 28], ['tron', 28], ['random', 28], ['genesis', 28], ['rpc', 28], ['name', 28], ['p', 28], ['upgradeable', 28], ['implementation', 28], ['attacker', 27], ['voting', 27], ['document', 27], ['pow', 27], ['finality', 27], ['social', 27], ['0x1', 27], ['costs', 27], ['mist', 27], ['ve', 27], ['ethers', 27], ['protocols', 26], ['attention', 26], ['design', 26], ['laws', 26], ['fee', 26], ['mkr', 26], ['zeroknowledge', 26], ['something', 26], ['did', 25], ['interact', 25], ['cryptokitties', 25], ['example', 25], ['without', 25], ['miner', 25], ['are', 25], ['go', 25], ['forks', 25], ['loom', 25], ['type', 25], ['mythril', 25], ['các', 25], ['của', 25], ['kin', 25], ['think', 24], ['above', 24], ['32', 24], ['next', 24], ['signed', 24], ['stack', 24], ['assembly', 24], ['root', 24], ['throw', 24], ['web3', 24], ['logic', 24], ['sstore', 24], ['da', 24], ['và', 24], ['sync', 23], ['abi', 23], ['ledger', 23], ['standard', 23], ['last', 23], ['potential', 23], ['balance', 23], ['systems', 23], ['install', 23], ['serenity', 23], ['testing', 23], ['messages', 23], ['resources', 23], ['api', 23], ['için', 23], ['kin2', 23], ['uct', 23], ['purchase', 22], ['rules', 22], ['able', 22], ['paper', 22], ['virtual', 22], ['nvt', 22], ['pmr', 22], ['logs', 22], ['few', 22], ['since', 22], ['commons', 22], ['compiler', 22], ['currencies', 21], ['console', 21], ['level', 21], ['keys', 21], ['default', 21], ['signature', 21], ['recipient', 21], ['nervos', 21], ['doing', 21], ['byte', 21], ['better', 20], ['erc721', 20], ['binance', 20], ['prices', 20], ['computers', 20], ['find', 20], ['multiple', 20], ['clients', 20], ['major', 20], ['plasma', 20], ['computation', 20], ['status', 20], ['anyone', 20], ['tr', 20], ['global', 20], ['products', 20], ['velocity', 20], ['duber', 20], ['python', 20], ['exchanges', 20], ['çok', 20], ['được', 20], ['stabl', 20], ['neo’s', 19], ['investment', 19], ['updates', 19], ['allows', 19], ['will', 19], ['depth', 19], ['months', 19], ['know', 19], ['prediction', 19], ['instance', 19], ['benefits', 19], ['ie', 19], ['open', 19], ['trade', 19], ['why', 19], ['debt', 19], ['scale', 19], ['toshi', 19], ['00', 19], ['bid', 19], ['id', 19], ['candidates', 19], ['bitcoins', 19], ['release', 19], ['sign', 19], ['input', 19], ['encrypted', 19], ['threshold', 19], ['yani', 19], ['bnb', 19], ['owned', 18], ['economy', 18], ['governance', 18], ['power', 18], ['really', 18], ['atomic', 18], ['june', 18], ['post', 18], ['place', 18], ['knowledge', 18], ['fund', 18], ['makes', 18], ['started', 18], ['worth', 18], ['total', 18], ['compatible', 18], ['natural', 18], ['moving', 18], ['log', 18], ['indexed', 18], ['u', 18], ['operation', 18], ['coop', 18], ['de', 18], ['stable', 18], ['check', 17], ['execute', 17], ['gnt', 17], ['based', 17], ['gdax', 17], ['databases', 17], ['effects', 17], ['frontrunning', 17], ['index', 17], ['her', 17], ['signatures', 17], ['usage', 17], ['proofs', 17], ['information', 17], ['gpu', 17], ['nethash', 17], ['framework', 17], ['content', 17], ['training', 17], ['transparency', 17], ['manager', 17], ['gibi', 17], ['bạn', 17], ['externally', 16], ['100', 16], ['unique', 16], ['returns', 16], ['vitalik', 16], ['learn', 16], ['corda', 16], ['long', 16], ['stellar', 16], ['5', 16], ['vit', 16], ['numeraire', 16], ['active', 16], ['official', 16], ['3', 16], ['hashing', 16], ['company', 16], ['list', 16], ['passphrase', 16], ['wifi', 16], ['memory', 16], ['err', 16], ['string', 16], ['dollar', 15], ['blocksize', 15], ['ancestor', 15], ['bank', 15], ['safe', 15], ['startups', 15], ['portfolio', 15], ['golem', 15], ['supply', 15], ['aws', 15], ['line', 15], ['local', 15], ['initial', 15], ['results', 15], ['secure', 15], ['insurance', 15], ['swarm', 15], ['blockhash', 15], ['verifier', 15], ['bootnode', 15], ['july', 15], ['ticket', 15], ['move', 15], ['search', 15], ['deployment', 15], ['you’re', 15], ['means', 15], ['lstm', 15], ['technical', 15], ['zokrates', 15], ['0x5', 15], ['container', 15], ['web3j', 15], ['gnosis', 15], ['olarak', 15], ['cho', 15], ['đồng', 15], ['asic', 15], ['xtz', 15], ['bet', 14], ['does', 14], ['month', 14], ['video', 14], ['single', 14], ['seed', 14], ['feature', 14], ['big', 14], ['created', 14], ['storing', 14], ['formulas', 14], ['winning', 14], ['constructor', 14], ['solution', 14], ['ranking', 14], ['pattern', 14], ['mainnet', 14], ['info02–23215754', 14], ['elrond', 14], ['week', 14], ['samsung', 14], ['person', 13], ['making', 13], ['deployed', 13], ['government', 13], ['spent', 13], ['off', 13], ['several', 13], ['great', 13], ['term', 13], ['known', 13], ['myetherwallet', 13], ['maker', 13], ['proposal', 13], ['leveldb', 13], ['bonus', 13], ['phase', 13], ['votes', 13], ['prover', 13], ['setup', 13], ['conference', 13], ['books', 13], ['everyone', 13], ['song', 13], ['wanted', 13], ['selector', 13], ['epoch', 13], ['slots', 13], ['dividends', 13], ['sum', 13], ['ontology', 13], ['arrays', 13], ['optimize', 13], ['ancak', 13], ['daha', 13], ['myth', 13], ['người', 13], ['không', 13], ['như', 13], ['kin1', 13], ['centralized', 12], ['orphaned', 12], ['meetup', 12], ['directly', 12], ['adding', 12], ['chart', 12], ['good', 12], ['prime', 12], ['paid', 12], ['actually', 12], ['however', 12], ['fiat', 12], ['browser', 12], ['approach', 12], ['frontend', 12], ['curator', 12], ['highestbid', 12], ['learned', 12], ['dappchains', 12], ['snarks', 12], ['micropayments', 12], ['counterfactual', 12], ['node1', 12], ['false', 12], ['filecoin', 12], ['cases', 12], ['ths', 12], ['back', 12], ['attesters', 12], ['proposers', 12], ['experience', 12], ['ile', 12], ['đầu', 12], ['trong', 12], ['sẽ', 12], ['dot', 12], ['erc1155', 12], ['history', 11], ['nonfungible', 11], ['hyperledger', 11], ['invest', 11], ['faster', 11], ['take', 11], ['bnt', 11], ['raw', 11], ['companies', 11], ['timescaledb', 11], ['unlock', 11], ['update', 11], ['swap1', 11], ['prng', 11], ['implementations', 11], ['innovation', 11], ['requests', 11], ['raiden', 11], ['china', 11], ['chinese', 11], ['finance', 11], ['vulnerability', 11], ['provides', 11], ['ropsten', 11], ['actions', 11], ['strategy', 11], ['credits', 11], ['dividend', 11], ['martynov', 11], ['concepts', 11], ['artifacts', 11], ['generate', 11], ['para', 11], ['lol', 11], ['fuck', 11], ['đó', 11], ['ra', 11], ['thì', 11], ['rhg', 11], ['headers', 11], ['checksum', 11], ['command', 11], ['properties', 11], ['bubble', 10], ['together', 10], ['facebook', 10], ['we’ll', 10], ['solutions', 10], ['constant', 10], ['bytes32', 10], ['today', 10], ['participants', 10], ['deep', 10], ['concept', 10], ['revealing', 10], ['zksnarks', 10], ['fundamentals', 10], ['reserve', 10], ['disk', 10], ['central', 10], ['cotrader', 10], ['capacity', 10], ['10x', 10], ['wealth', 10], ['too', 10], ['technologies', 10], ['bit', 10], ['years', 10], ['rewards', 10], ['push', 10], ['operations', 10], ['patricia', 10], ['around', 10], ['employee', 10], ['capital', 10], ['important', 10], ['dappchain', 10], ['write', 10], ['commandline', 10], ['city', 10], ['participate', 10], ['gbp', 10], ['via', 10], ['base', 10], ['probabilistic', 10], ['stag', 10], ['inflation', 10], ['curators', 10], ['github', 10], ['likely', 10], ['sheet', 10], ['peer', 10], ['this', 10], ['algorithm', 10], ['decryptionkey', 10], ['split', 10], ['zkdai', 10], ['cannot', 10], ['large', 10], ['swipe', 10], ['0x42', 10], ['available', 10], ['sload', 10], ['formal', 10], ['upgrade', 10], ['workshop', 10], ['işlem', 10], ['integer', 10], ['again', 10], ['vipnode', 10], ['alethio', 10], ['pgp', 10], ['instruction', 10], ['verify', 10], ['curve', 10], ['greeter', 10], ['left', 10], ['fast', 9], ['product', 9], ['custom', 9], ['rep', 9], ['proprietary', 9], ['cloud', 9], ['extremely', 9], ['before', 9], ['loan', 9], ['buyers', 9], ['industry', 9], ['dataset', 9], ['volume', 9], ['free', 9], ['utility', 9], ['trx', 9], ['second', 9], ['she', 9], ['16', 9], ['dup2', 9], ['blocknumber', 9], ['highestbidder', 9], ['therefore', 9], ['languages', 9], ['await', 9], ['ganache', 9], ['datadir', 9], ['uk', 9], ['settlement', 9], ['give', 9], ['numbers', 9], ['values', 9], ['question', 9], ['escrow', 9], ['warping', 9], ['rational', 9], ['prisoner’s', 9], ['individuals', 9], ['changes', 9], ['metacoin', 9], ['dan', 9], ['look', 9], ['derivation', 9], ['ethon', 9], ['yellow', 9], ['v', 9], ['item', 9], ['homepage', 9], ['sagajs', 9], ['eip', 9], ['cold', 9], ['ya', 9], ['district0x', 9], ['models', 9], ['average', 9], ['slockit', 9], ['details', 9], ['querybalance', 9], ['plan', 9], ['greeting', 9], ['adoption', 8], ['lot', 8], ['receive', 8], ['idea', 8], ['problems', 8], ['legal', 8], ['executed', 8], ['already', 8], ['founder', 8], ['indirect', 8], ['a', 8], ['currently', 8], ['savedroid', 8], ['performance', 8], ['well', 8], ['broadcast', 8], ['i’ve', 8], ['markets', 8], ['members', 8], ['alliance', 8], ['largest', 8], ['mobile', 8], ['javascript', 8], ['overview', 8], ['recommend', 8], ['expect', 8], ['staking', 8], ['predictions', 8], ['cheaper', 8], ['consumers', 8], ['past', 8], ['you', 8], ['there’s', 8], ['increasing', 8], ['following', 8], ['µraiden', 8], ['highway', 8], ['adamant', 8], ['university', 8], ['trillion', 8], ['cosmos', 8], ['change', 8], ['box', 8], ['provide', 8], ['session', 8], ['short', 8], ['chess', 8], ['topic', 8], ['white', 8], ['copies', 8], ['initialization', 8], ['expensive', 8], ['enterprises', 8], ['drivers', 8], ['subscription', 8], ['law', 8], ['mined', 8], ['let’s', 8], ['quick', 8], ['error', 8], ['result', 8], ['ciphertext', 8], ['pk', 8], ['fair', 8], ['zil', 8], ['remember', 8], ['newkey', 8], ['lost', 8], ['owners', 8], ['şu', 8], ['anda', 8], ['insights', 8], ['aragon', 8], ['peertopeer', 8], ['scheme', 8], ['activity', 8], ['ðapp', 8], ['elliptic', 8], ['div', 8], ['chains', 8], ['analysis', 8], ['fungible', 8], ['tenets', 7], ['party', 7], ['deposit', 7], ['sale', 7], ['easy', 7], ['mission', 7], ['business', 7], ['observed', 7], ['t', 7], ['ebay', 7], ['page', 7], ['music', 7], ['18', 7], ['distributed', 7], ['peers', 7], ['lubin', 7], ['reading', 7], ['interface', 7], ['byzantium', 7], ['certain', 7], ['adds', 7], ['cryptopepes', 7], ['ico’s', 7], ['drawdown', 7], ['trader', 7], ['ethereumj', 7], ['managers', 7], ['hardware', 7], ['near', 7], ['fomo', 7], ['said', 7], ['come', 7], ['terms', 7], ['postgresql', 7], ['enter', 7], ['to', 7], ['confirmation', 7], ['numerai', 7], ['guide', 7], ['flexibility', 7], ['hardfork', 7], ['turn', 7], ['instantiated', 7], ['needs', 7], ['guys', 7], ['chase', 7], ['sig', 7], ['stage', 7], ['stages', 7], ['course', 7], ['polkadot', 7], ['toys', 7], ['streaming', 7], ['possible', 7], ['investing', 7], ['says', 7], ['keep', 7], ['problem', 7], ['copy', 7], ['smartcontract', 7], ['dilemma', 7], ['membership', 7], ['fees', 7], ['balls', 7], ['follow', 7], ['contract’s', 7], ['commit', 7], ['valid', 7], ['mountain', 7], ['scam', 7], ['mac', 7], ['parameters', 7], ['symmetric', 7], ['rounding', 7], ['bloom', 7], ['case', 7], ['field', 7], ['space', 7], ['size', 7], ['reduce', 7], ['japan', 7], ['crafting', 7], ['dungeon', 7], ['album', 7], ['provided', 7], ['ethhotwallet', 7], ['button', 7], ['probably', 7], ['web3toasciiweb3ethgetstorageatcontractaddress', 7], ['tual', 7], ['pool', 7], ['labs', 7], ['adidas', 7], ['whether', 7], ['rakr', 7], ['clustering', 7], ['td', 7], ['npm', 7], ['alice”', 7], ['snippet', 7], ['never', 7], ['cognizant', 7], ['entities', 6], ['option', 6], ['wrong', 6], ['issue', 6], ['answer', 6], ['digix', 6], ['cofounder', 6], ['introduction', 6], ['instant', 6], ['coming', 6], ['outcome', 6], ['profits', 6], ['margin', 6], ['looking', 6], ['pocket', 6], ['joseph', 6], ['pepchain', 6], ['justified', 6], ['peak', 6], ['fundamental', 6], ['93', 6], ['step', 6], ['sell', 6], ['cotraders', 6], ['sending', 6], ['2020', 6], ['main', 6], ['crowdsale', 6], ['improvement', 6], ['eea', 6], ['chat', 6], ['frameworks', 6], ['“send', 6], ['young', 6], ['flippening', 6], ['erc', 6], ['scientists', 6], ['ui', 6], ['verified', 6], ['recently', 6], ['asked', 6], ['become', 6], ['is', 6], ['reward', 6], ['banks', 6], ['implement', 6], ['shows', 6], ['const', 6], ['counterfactually', 6], ['hangzhou', 6], ['ant', 6], ['sales', 6], ['talks', 6], ['10', 6], ['shares', 6], ['migration', 6], ['4', 6], ['pairs', 6], ['bug', 6], ['20th', 6], ['point', 6], ['parachain', 6], ['toy', 6], ['doesn’t', 6], ['january', 6], ['infura’s', 6], ['creating', 6], ['salary', 6], ['in', 6], ['instead', 6], ['emerald', 6], ['throughput', 6], ['swerve', 6], ['warp', 6], ['points', 6], ['clash', 6], ['apps', 6], ['begin', 6], ['ownership', 6], ['goes', 6], ['zcoins', 6], ['sequences', 6], ['rnns', 6], ['svm', 6], ['tps', 6], ['steem', 6], ['kdf', 6], ['ecf', 6], ['dn', 6], ['owing', 6], ['errors', 6], ['semantic', 6], ['child', 6], ['room', 6], ['decentralised', 6], ['loot', 6], ['character', 6], ['backup', 6], ['didn’t', 6], ['showing', 6], ['encodinghexconsolelogweb3ethgetstorageatcontractaddress', 6], ['fine', 6], ['spec', 6], ['lastadd', 6], ['brands', 6], ['unsupervised', 6], ['response', 6], ['classification', 6], ['philosophy', 6], ['endtoend', 6], ['encryption', 6], ['yet', 6], ['ðapps', 6], ['2014', 6], ['hackathons', 6], ['reduction', 6], ['proposer', 6], ['proofofstake', 6], ['chosen', 6], ['randomness', 6], ['february', 6], ['header', 6], ['merkle', 6], ['argument', 6], ['require', 6], ['chromatic', 6], ['represent', 6], ['analog', 6], ['control', 5], ['computing', 5], ['minimum', 5], ['appear', 5], ['enjinx', 5], ['compile', 5], ['across', 5], ['hunt', 5], ['tickets', 5], ['quantum', 5], ['deleted', 5], ['twitter', 5], ['vaults', 5], ['must', 5], ['trezor', 5], ['you’ll', 5], ['refund', 5], ['sees', 5], ['mixer', 5], ['temporary', 5], ['cryptoeconomics', 5], ['right', 5], ['small', 5], ['airdrop', 5], ['inv', 5], ['miles', 5], ['standards', 5], ['tweet', 5], ['form', 5], ['series', 5], ['affect', 5], ['founded', 5], ['research', 5], ['plot', 5], ['chsb', 5], ['bad', 5], ['string’', 5], ['match', 5], ['parity', 5], ['wouldn’t', 5], ['danny', 5], ['sidechains', 5], ['scripting', 5], ['traffic', 5], ['cocchiaro', 5], ['generated', 5], ['moves', 5], ['java', 5], ['requirements', 5], ['processing', 5], ['agreement', 5], ['gavin', 5], ['instructions', 5], ['it', 5], ['cooperative', 5], ['whole', 5], ['modifier', 5], ['examples', 5], ['monetize', 5], ['runs', 5], ['quickly', 5], ['colorblind', 5], ['uber', 5], ['upgradable', 5], ['zeppelin', 5], ['strategies', 5], ['given', 5], ['“crypto', 5], ['1’s', 5], ['another', 5], ['crowdfunding', 5], ['retrieved', 5], ['bookkeepers', 5], ['scammers', 5], ['direct', 5], ['slack', 5], ['sn', 5], ['believe', 5], ['variable', 5], ['questions', 5], ['weather', 5], ['kickstarter', 5], ['contribute', 5], ['factory', 5], ['towards', 5], ['ssjo', 5], ['pieces', 5], ['hours', 5], ['ethercraft', 5], ['book', 5], ['discussed', 5], ['xrp', 5], ['correlation', 5], ['calldata', 5], ['warningcontract', 5], ['swc', 5], ['delegatecall', 5], ['ballot', 5], ['stablecoins', 5], ['swap', 5], ['vip', 5], ['human', 5], ['nike', 5], ['always', 5], ['turing', 5], ['machining', 5], ['shop', 5], ['cluster', 5], ['messaging', 5], ['bound', 5], ['autonomous', 5], ['connected', 5], ['ipfshash', 5], ['buffer', 5], ['exciting', 5], ['ideas', 5], ['makerdao', 5], ['embark', 5], ['query', 5], ['kin1kin2', 5], ['hate', 5], ['onegh', 5], ['actors', 5], ['marketplace', 5], ['apply', 5], ['ecdsa', 5], ['display', 5], ['metadata', 5], ['ruby', 5], ['prysmatic', 5], ['collations', 5], ['raised', 4], ['third', 4], ['limited', 4], ['less', 4], ['singapore', 4], ['grow', 4], ['advisor', 4], ['efforts', 4], ['purchases', 4], ['focus', 4], ['understanding', 4], ['final', 4], ['domain', 4], ['pretty', 4], ['increase', 4], ['hackathon', 4], ['including', 4], ['phone', 4], ['litecoin', 4], ['email', 4], ['010', 4], ['similar', 4], ['nano', 4], ['native', 4], ['device', 4], ['includes', 4], ['planning', 4], ['vice', 4], ['period', 4], ['transferred', 4], ['etherscan', 4], ['incoming', 4], ['shell', 4], ['share', 4], ['car', 4], ['related', 4], ['ingot', 4], ['april', 4], ['land', 4], ['cryptocountries', 4], ['tokens”', 4], ['101', 4], ['analytics', 4], ['hold', 4], ['numerai’s', 4], ['put', 4], ['shipping', 4], ['hot', 4], ['please', 4], ['heard', 4], ['announced', 4], ['expected', 4], ['demo', 4], ['transfers', 4], ['9', 4], ['imagined', 4], ['safety', 4], ['talk', 4], ['zug', 4], ['15', 4], ['scalable', 4], ['morgan', 4], ['jp', 4], ['piece', 4], ['json', 4], ['easiest', 4], ['“add', 4], ['extension', 4], ['telegram', 4], ['be', 4], ['carl', 4], ['bidder', 4], ['lock', 4], ['“we', 4], ['essential', 4], ['sent', 4], ['love', 4], ['someone', 4], ['dfinity’s', 4], ['names', 4], ['einputs', 4], ['vendors', 4], ['download', 4], ['attracting', 4], ['amazon', 4], ['calls', 4], ['tier', 4], ['record', 4], ['ball', 4], ['prove', 4], ['optin', 4], ['selectors', 4], ['exposes', 4], ['tool', 4], ['i’d', 4], ['track', 4], ['cryptoassets', 4], ['rose', 4], ['collection', 4], ['abhinav', 4], ['wandx', 4], ['graphene', 4], ['totalsupply', 4], ['user’s', 4], ['authorities', 4], ['sepiashvili', 4], ['experts', 4], ['reached', 4], ['format', 4], ['oracles', 4], ['watching', 4], ['addr', 4], ['forward', 4], ['latest', 4], ['goerli', 4], ['prysm', 4], ['critical', 4], ['and', 4], ['billion', 4], ['rise', 4], ['web3todecimalweb3ethgetstorageatcontractaddress', 4], ['gasprice', 4], ['request', 4], ['statement', 4], ['views', 4], ['impact', 4], ['attacks', 4], ['vipstats', 4], ['story', 4], ['niche', 4], ['airswap', 4], ['xrb', 4], ['autonomy', 4], ['necessary', 4], ['usb', 4], ['days', 4], ['vladislav', 4], ['joe', 4], ['ethwaterloo', 4], ['bounties', 4], ['certainty', 4], ['tree', 4], ['hf', 4], ['missing', 4], ['restore', 4], ['s', 4], ['discounts', 4], ['requestors', 4], ['‘0x’', 4], ['editor', 4], ['offchain', 4], ['imbrex', 4], ['tyx', 4], ['sapphire', 4], ['diamond', 4], ['ethl', 3], ['shaun', 3], ['jakarta', 3], ['swipecrypto', 3], ['“layer', 3], ['steps', 3], ['website', 3], ['hosting', 3], ['growth', 3], ['difficulty', 3], ['gonetwork', 3], ['professional', 3], ['watch', 3], ['passcode', 3], ['launching', 3], ['researchers', 3], ['wants', 3], ['minute', 3], ['multimillion', 3], ['300', 3], ['confirm', 3], ['phrase', 3], ['roi', 3], ['26', 3], ['custody', 3], ['wish', 3], ['generalized', 3], ['templates', 3], ['bubbles', 3], ['group', 3], ['utc', 3], ['30m', 3], ['24', 3], ['500000', 3], ['associated', 3], ['256', 3], ['dashboard', 3], ['visa', 3], ['thousands', 3], ['hundreds', 3], ['bool', 3], ['success', 3], ['close', 3], ['requires', 3], ['hedge', 3], ['intelligence', 3], ['try', 3], ['kind', 3], ['everything', 3], ['swaps', 3], ['11', 3], ['levels', 3], ['high', 3], ['early', 3], ['energy', 3], ['itself', 3], ['previous', 3], ['messenger', 3], ['inchat', 3], ['also', 3], ['onto', 3], ['knew', 3], ['regular', 3], ['fomo3d', 3], ['war', 3], ['“who', 3], ['20”', 3], ['maintain', 3], ['faucet', 3], ['british', 3], ['pound', 3], ['types', 3], ['iname', 3], ['devices', 3], ['chance', 3], ['boolean', 3], ['gets', 3], ['web3py', 3], ['diverse', 3], ['zombie', 3], ['advertisements', 3], ['allowed', 3], ['starting', 3], ['ryan', 3], ['play', 3], ['intro', 3], ['fact', 3], ['corruption', 3], ['internet’s', 3], ['preview', 3], ['weeks', 3], ['tracking', 3], ['portfolio”', 3], ['him', 3], ['devcon', 3], ['opensource', 3], ['initiative', 3], ['2016', 3], ['agree', 3], ['bookkeeper', 3], ['bitshares', 3], ['scammer', 3], ['toolset', 3], ['react', 3], ['•••', 3], ['repository', 3], ['05', 3], ['“state”', 3], ['holds', 3], ['omisego', 3], ['meeting', 3], ['representatives', 3], ['describe', 3], ['inside', 3], ['declared', 3], ['struct', 3], ['fiddle', 3], ['others', 3], ['taking', 3], ['0x', 3], ['clientconfirmed', 3], ['eips', 3], ['“private', 3], ['transferring', 3], ['basic', 3], ['z', 3], ['indexresult', 3], ['00000000000000000000000xbccc714d56bc0da0fd33d96d2a87b680dd6d0df6let', 3], ['newkeyconsolelogdec', 3], ['indexconsolelogascii', 3], ['newkeyconsolelogascii', 3], ['let', 3], ['web3sha3key', 3], ['credentials', 3], ['30', 3], ['we', 3], ['daos', 3], ['rather', 3], ['planned', 3], ['waiting', 3], ['times', 3], ['marketing', 3], ['axlang', 3], ['raiblocks', 3], ['haven’t', 3], ['scarcity', 3], ['stuff', 3], ['away', 3], ['giving', 3], ['hockey', 3], ['ethglobal', 3], ['our', 3], ['sixty', 3], ['discount', 3], ['gregorian', 3], ['calendar', 3], ['once', 3], ['providers', 3], ['0419', 3], ['writing', 3], ['facilitate', 3], ['tachyon', 3], ['options', 3], ['physical', 3], ['200', 2], ['maximum', 2], ['accessible', 2], ['adfree', 2], ['announcing', 2], ['djie', 2], ['7', 2], ['indonesia', 2], ['activities', 2], ['ethfiddle', 2], ['genes', 2], ['kittycore', 2], ['breed', 2], ['cats', 2], ['25000', 2], ['2”', 2], ['underlying', 2], ['naval', 2], ['awc', 2], ['tradable', 2], ['maybe', 2], ['perhaps', 2], ['spending', 2], ['engineer', 2], ['house', 2], ['aspects', 2], ['one', 2], ['controls', 2], ['bringing', 2], ['vault', 2], ['withdrawal', 2], ['accept', 2], ['huge', 2], ['words', 2], ['trilemma', 2], ['characterizes', 2], ['popular', 2], ['handle', 2], ['independently', 2], ['either', 2], ['london', 2], ['2015', 2], ['empower', 2], ['happened', 2], ['cryptoflix', 2], ['helps', 2], ['management', 2], ['combining', 2], ['kelly', 2], ['generation', 2], ['permissions', 2], ['sure', 2], ['proceed', 2], ['your', 2], ['explicit', 2], ['creator', 2], ['paying', 2], ['ios', 2], ['8', 2], ['rs', 2], ['coinmarketcap', 2], ['esports', 2], ['gaming', 2], ['show', 2], ['alltime', 2], ['hear', 2], ['higher', 2], ['2017in', 2], ['slot', 2], ['vs', 2], ['payperuse', 2], ['offtheshelf', 2], ['robust', 2], ['recurring', 2], ['puzzles', 2], ['solving', 2], ['computational', 2], ['helpful', 2], ['hope', 2], ['here’s', 2], ['ethcc', 2], ['march', 2], ['citizens', 2], ['ethereumsecured', 2], ['cash', 2], ['voltron', 2], ['bullish', 2], ['designed', 2], ['fox', 2], ['metamaskin', 2], ['outlined', 2], ['hadn’t', 2], ['cancun', 2], ['news', 2], ['until', 2], ['max', 2], ['situation', 2], ['attrition', 2], ['ml', 2], ['ai', 2], ['plasmachain', 2], ['martin', 2], ['ethsharp', 2], ['purposes', 2], ['rolling', 2], ['taipei', 2], ['plans', 2], ['cobinhood', 2], ['speeding', 2], ['splitting', 2], ['appears', 2], ['specifically', 2], ['thing', 2], ['thanks', 2], ['fields', 2], ['date', 2], ['site', 2], ['branch', 2], ['username', 2], ['emerging', 2], ['bring', 2], ['joins', 2], ['joined', 2], ['cryptozombies', 2], ['various', 2], ['mike', 2], ['paperethereum', 2], ['enough', 2], ['productionready', 2], ['familiarity', 2], ['beginners', 2], ['required', 2], ['i’ll', 2], ['themselves', 2], ['established', 2], ['founding', 2], ['program', 2], ['continued', 2], ['creation', 2], ['director', 2], ['achieves', 2], ['st', 2], ['g', 2], ['trend', 2], ['podcast', 2], ['hosted', 2], ['swipeswipe', 2], ['audience', 2], ['present', 2], ['joining', 2], ['campaigns', 2], ['recap', 2], ['coworking', 2], ['brought', 2], ['securely', 2], ['buttonstep', 2], ['secured', 2], ['implemented', 2], ['0000000000000000000000000000000000000000000000000000000000000008let', 2], ['aug', 2], ['displayed', 2], ['logo', 2], ['automated', 2], ['wednesday', 2], ['atm', 2], ['tokyo', 2], ['teller', 2], ['retail', 2], ['meta', 2], ['mass', 2], ['counterparties', 2], ['author', 2], ['subtleties', 2], ['spam', 2], ['uses', 2], ['contributions', 2], ['earliest', 2], ['care', 2], ['environment', 2], ['functional', 2], ['enables', 2], ['verification', 2], ['world’s', 2], ['minimal', 2], ['effort', 2], ['centralised', 2], ['yashin', 2], ['ilya', 2], ['obnty', 2], ['im', 2], ['vitalikbuterin', 2], ['twitterthe', 2], ['tweets', 2], ['international', 2], ['developing', 2], ['judges', 2], ['announce', 2], ['agreements', 2], ['ultimate', 2], ['p2p', 2], ['what', 2], ['whom', 2], ['electromagnetic', 2], ['pullrequest', 2], ['due', 2], ['powerful', 2], ['powered', 2], ['android', 2], ['2018ethereum', 1], ['httpsbitcointalkorgindexphptopic4539121', 1], ['httpsgooglymw9t2whitepaper', 1], ['salea', 1], ['gmtwe', 1], ['rolovićblockedunblockfollowfollowingdec', 1], ['pivotal', 1], ['join', 1], ['growing', 1], ['telling', 1], ['thatwith', 1], ['booming', 1], ['yes', 1], ['receiving', 1], ['limits', 1], ['explaining', 1], ['transformed', 1], ['steroidstokens', 1], ['conditional', 1], ['low', 1], ['far', 1], ['tblockedunblockfollowfollowingjan', 1], ['served', 1], ['“longterm', 1], ['interested', 1], ['cryptocurrencies”in', 1], ['trading”', 1], ['guarantee', 1], ['2018binance', 1], ['turns', 1], ['condonblockedunblockfollowfollowingaug', 1], ['highs', 1], ['backyardproductiongetty', 1], ['perfectly', 1], ['chloe', 1], ['modest', 1], ['ordinary…', 1], ['detached', 1], ['stands', 1], ['cryptocurrenciesthe', 1], ['successful', 1], ['monterey', 1], ['2017today', 1], ['continuing', 1], ['features', 1], ['john', 1], ['phillipsgetty', 1], ['disrupt', 1], ['dealthe', 1], ['exists', 1], ['december', 1], ['exactly', 1], ['“how', 1], ['sold', 1], ['havemohit', 1], ['selling', 1], ['these', 1], ['changing', 1], ['age', 1], ['giants', 1], ['santander', 1], ['sberbank', 1], ['innovative', 1], ['ubs', 1], ['networking', 1], ['subject', 1], ['collaboration', 1], ['choi', 1], ['beneficial', 1], ['jon', 1], ['finalityhsiaowei', 1], ['wangblockedunblockfollowfollowingdec', 1], ['login', 1], ['legacy', 1], ['mainnetdeveloping', 1], ['promoted', 1], ['related”', 1], ['29', 1], ['usersnikita', 1], ['handles', 1], ['situations', 1], ['dreamteam', 1], ['2017blockchain', 1], ['distress', 1], ['foxy', 1], ['impresshere’s', 1], ['witherspoonblockedunblockfollowfollowingfeb', 1], ['boy', 1], ['officers', 1], ['blockchainthe', 1], ['2017two', 1], ['interacting', 1], ['litecoinone', 1], ['worldyou', 1], ['personal', 1], ['aftermath', 1], ['trying', 1], ['feel', 1], ['urge', 1], ['buysell', 1], ['evaluating', 1], ['opinion', 1], ['considered', 1], ['thoughts', 1], ['suggestion', 1], ['puzzleshowever', 1], ['cpu', 1], ['5minssteve', 1], ['2018ethereum’s', 1], ['those', 1], ['sample', 1], ['ujodemocratising', 1], ['stateimproving', 1], ['advertising', 1], ['innovators', 1], ['ethereumas', 1], ['creators', 1], ['spreadsheetdescribing', 1], ['toothe', 1], ['november', 1], ['interactions', 1], ['improving', 1], ['assetsmatthew', 1], ['nfts', 1], ['👈practical', 1], ['plasmabacked', 1], ['campbellblockedunblockfollowfollowingapr', 1], ['released', 1], ['bleachers', 1], ['pockets', 1], ['fatterrobert', 1], ['isn’t', 1], ['handsomely', 1], ['cat', 1], ['iiiblockedunblockfollowfollowingjan', 1], ['sustainable', 1], ['agents', 1], ['2018updatezombiechain', 1], ['socialchain', 1], ['23', 1], ['zombiechain', 1], ['dpos', 1], ['production', 1], ['evolved', 1], ['eoslike', 1], ['sidechain', 1], ['duffyblockedunblockfollowfollowingmay', 1], ['dappsjames', 1], ['16mycryptoblockedunblockfollowfollowingjan', 1], ['knowlearn', 1], ['hindrance', 1], ['pace', 1], ['jump', 1], ['retrain', 1], ['beyondblock', 1], ['photoon', 1], ['remedy', 1], ['2018it’s', 1], ['who’ve', 1], ['spookya', 1], ['easier', 1], ['disaster', 1], ['applicationhyperledger', 1], ['visions', 1], ['differences', 1], ['dlt', 1], ['singhblockedunblockfollowfollowingfeb', 1], ['namely', 1], ['regard', 1], ['action', 1], ['pozoblockedunblockfollowfollowingjun', 1], ['powers', 1], ['primitive', 1], ['property', 1], ['signing', 1], ['saying', 1], ['sally', 1], ['ability', 1], ['necessaryaustin', 1], ['unsplashblockchains', 1], ['places', 1], ['griffithblockedunblockfollowfollowingnov', 1], ['perfect', 1], ['carter', 1], ['ahmed', 1], ['2018photo', 1], ['simulatoramazingandyyyblockedunblockfollowfollowingaug', 1], ['talking', 1], ['develop', 1], ['entering', 1], ['stepsmyetherwallet', 1], ['safe…', 1], ['this…you', 1], ['industries', 1], ['leaders', 1], ['accelerate', 1], ['season', 1], ['introducing', 1], ['school', 1], ['meetups', 1], ['interactive', 1], ['12', 1], ['🌎', 1], ['2017updatescryptozombies', 1], ['problemsmuneeb', 1], ['dive', 1], ['three', 1], ['ahead', 1], ['discussion', 1], ['aliblockedunblockfollowfollowingjun', 1], ['17', 1], ['listed', 1], ['izquierdodeveloping', 1], ['ehrsamunderstanding', 1], ['practices', 1], ['instructors', 1], ['whose', 1], ['reviews', 1], ['grider', 1], ['morelliblockedunblockfollowfollowingjan', 1], ['downloaded', 1], ['blockchainthis', 1], ['ado', 1], ['boilerplate', 1], ['hereupdate', 1], ['rapid', 1], ['trufflenext', 1], ['straightforward', 1], ['2017ethereum', 1], ['dappsmart', 1], ['walletsdave', 1], ['multisignature', 1], ['appletonblockedunblockfollowfollowingjun', 1], ['25', 1], ['airdrops', 1], ['gaining', 1], ['significantly', 1], ['credit', 1], ['2017photo', 1], ['skarzynskiafpgetty', 1], ['tokens…', 1], ['owning', 1], ['text', 1], ['harryson', 1], ['explores', 1], ['produced', 1], ['roseblockedunblockfollowfollowingjun', 1], ['ethereumanna', 1], ['anna', 1], ['challenge', 1], ['ux', 1], ['the', 1], ['comments', 1], ['coffee', 1], ['answering', 1], ['exist', 1], ['shouldn’t', 1], ['forget', 1], ['vulnerabilities', 1], ['listconsensysblockedunblockfollowfollowingnov', 1], ['darkness', 1], ['newer', 1], ['ecosystemsebastian', 1], ['wurstblockedunblockfollowfollowingoct', 1], ['250', 1], ['2018analysis', 1], ['cap', 1], ['bernard', 1], ['marreven', 1], ['overtake', 1], ['yearwhat', 1], ['readforbesblockedunblockfollowfollowingfeb', 1], ['foreign', 1], ['ethereumcompatible', 1], ['networksaxlang', 1], ['“is', 1], ['foundation’s', 1], ['summarizedgeorgios', 1], ['noted', 1], ['“this', 1], ['devcon3', 1], ['moderator', 1], ['dain', 1], ['prospectsworld', 1], ['ceo', 1], ['brief', 1], ['topics', 1], ['stream', 1], ['happy', 1], ['dmitry', 1], ['cryptoeconomic', 1], ['dがaにスマホを送付しなかったり欺いた場合aは直接関係があるbから資金を回収し、b←c←dという流れでトラストチェーンをたどれるようにすることで、実際に詐欺を行った人間に対して保険をかけるこのスキームは物であれ情報であれ、人間同士がなにかをやりとりする場合に活用できるものである。では、フェイクアカウントやフェイクニュースが蔓延する現代のインターネットにおいて、一般の人が騙されずに済む仕組みはないのだろうか？現在のtwitterにおける問題点ここで冒頭のtwitterスキャムの例に戻る。vitalikのふりをしたフェイクアカウントや、それに呼応した”おとり”のフェイクアカウント（詐欺目的のツイートに対してlikeやretweetをする）に対して、twitterのアドミンは対応が遅すぎる（数時間〜数日以上）し、スキャムが自発的に排除されるような仕組みもない。こういった問題に対して、twitter以外のプラットフォームにも適用可能な、独立したモデレーションの仕組みは提案できないだろうか？prediction', 1], ['work”として送付時に含める、といったテクニックを用いた。hashcashの課題は、非効率だったこと。スパム業者への対策のために、一般の人たちも多くのコンピューティングパワーを消費しなければならなくなってしまう。hashcashをproof', 1], ['broken', 1], ['インターネットをマシなものにする”ことに焦点を置いて話をするというところから始まりました。“インターネットの世界は変わってしまった”過去数カ月の間twitterなどで、vitalikと同じプロフィール画像を使ったフェイクアカウントが多く作成されたり、フェイクアカウントが彼のツイートに返信リプライする形で「このアドレスに03eth送ったら、3ethを返すよ」というような詐欺ツイートが多発していることを例に出し、これが今のインターネットの大きな問題になっていると。internet', 1], ['2018225＠バンコクで行われたasiapacific', 1], ['meetupに参加してきたので、そこでのvitalikのトーク内容をシェアしたいと思います。トークのタイトルは”cryptoeconomics', 1], ['demonstrations', 1], ['twoposts', 1], ['1facu', 1], ['cheatsheet', 1], ['httpwwwteam2000alcomcategoryquestionideasthe', 1], ['questionsalexander', 1], ['gethsmart', 1], ['interviews', 1], ['interview', 1], ['soliditydapps', 1], ['updating', 1], ['2facu', 1], ['2017this', 1], ['world4', 1], ['highly', 1], ['gentle', 1], ['afternoon', 1], ['odemdai', 1], ['iostrequest', 1], ['2018we', 1], ['cfiwax', 1], ['tokensaion', 1], ['enabled', 1], ['agimedicalchain', 1], ['aioniostoken', 1], ['for', 1], ['pantheon', 1], ['focuses', 1], ['scratchpegasys’s', 1], ['adoptionconsensysblockedunblockfollowfollowingoct', 1], ['2018pegasys', 1], ['engineering', 1], ['rebuilt', 1], ['articlewhat', 1], ['wordsmediumcom', 1], ['mechanics', 1], ['digging', 1], ['unstoppable¹', 1], ['ethereum”', 1], ['satoshi', 1], ['cover', 1], ['democratic', 1], ['minor', 1], ['brave', 1], ['iotainterviewing', 1], ['nativecontinuing', 1], ['fixesinvestigating', 1], ['ways', 1], ['highlights', 1]]\n"
     ]
    }
   ],
   "source": [
    "# Class to append value in a dictionary\n",
    "class my_dictionary(dict): \n",
    "  \n",
    "    # __init__ function \n",
    "    def __init__(self): \n",
    "        self = dict() \n",
    "          \n",
    "    # Function to add key:value \n",
    "    def add(self, key, value): \n",
    "        self[key] = value\n",
    "\n",
    "\n",
    "# Python3 code to preprocessing the string\n",
    "# Intending to remove all punctuation and common words \n",
    "def pre_process(str): \n",
    "    \n",
    "    # removing punctuation ---> using string module\n",
    "    import string\n",
    "    translator = str.maketrans('', '', string.punctuation)\n",
    "    str = str.translate(translator)\n",
    "    \n",
    "    str = str.lower()\n",
    "    \n",
    "    # removing prep, conj, articles ---> using re module\n",
    "    import re\n",
    "    str = re.sub('(\\s+)(a|an|and|the|this|that|these|those|i|would|could|should)(\\s+)', ' ', str)\n",
    "    str = re.sub('(\\s+)(to|for|from|in|into|under|with|within|below|up|down|of|on)(\\s+)', ' ', str)\n",
    "    str = re.sub('(\\s+)(are|may|by|as|we|or|it|be|which|the|when|make|no|set|your|its|it\\'s)(\\s+)', ' ', str)\n",
    "    str = re.sub('(\\s+)(if|any|used|all|has|have|new|data|at|code|node|state|-|they|our)(\\s+)', ' ', str)\n",
    "    str = re.sub('(\\s+)(you|must|every|each|not|what|one|then|way|so|will|also|is|can)(\\s+)', ' ', str)\n",
    "    str = re.sub('(\\s+)(their|was|more|other|use|do|need|my|some|get|out|many|had|here|over)(\\s+)', ' ', str)\n",
    "    \n",
    "    return str\n",
    "    \n",
    "\n",
    "    \n",
    "# Python3 code to find frequency of each word \n",
    "# function for calculating the frequency \n",
    "def freq(str):\n",
    "    str = pre_process(str)\n",
    "    \n",
    "    # break the string into list of words \n",
    "    str_list = str.split() \n",
    "  \n",
    "    # gives set of unique words \n",
    "    unique_words = set(str_list)\n",
    "    \n",
    "    frequency = my_dictionary()\n",
    "      \n",
    "    for word in unique_words : \n",
    "        frequency.add(word, str_list.count(word))\n",
    "        \n",
    "    # sort by value (downwards) ---> using operator module\n",
    "    import operator\n",
    "    sorted_freq = sorted(frequency.items(), key=operator.itemgetter(1), reverse=True)\n",
    "        \n",
    "    # collect first 10 items in dictionary\n",
    "    # first_few_items = {k: sorted_freq[k] for k in list(sorted_freq)[:10]} \n",
    "    # btw, sorted_freq is a list\n",
    "    \n",
    "    return sorted_freq[0:20]#, len(sorted_freq)\n",
    "\n",
    "\n",
    "# merge two lists toether without appending same word\n",
    "# if same word found, increases count\n",
    "def merge_two_lists(a, b):\n",
    "    data = {}\n",
    "    for pair in a+b:\n",
    "        key, value = pair\n",
    "        data[key] = data.get(key, 0) + value        \n",
    "    data = [[key, value] for key, value in data.items()]\n",
    "    return data\n",
    "\n",
    "\n",
    "# convert a tuple into a list\n",
    "def tuple_to_list(listname):\n",
    "    a = []\n",
    "    for i in range(0,len(listname)):\n",
    "        a.append(list(listname[i]))\n",
    "    return a\n",
    "            \n",
    "\n",
    "# For sorting a list of lists using 2nd item\n",
    "def second_item(item):\n",
    "    return item[1]\n",
    "\n",
    "        \n",
    "\n",
    "# for getting a list of words for a particular tag\n",
    "def list_of_most_used_words(tag):\n",
    "    freq_list = []\n",
    "    for key in data:\n",
    "        if tag in key['title'].lower():\n",
    "            str = key['content']\n",
    "            freq_list = merge_two_lists(freq_list,tuple_to_list(freq(str)))\n",
    "    \n",
    "    freq_list.sort(key=second_item, reverse=True)\n",
    "    return freq_list\n",
    "\n",
    "\n",
    "\n",
    "# application code \n",
    "if __name__ == \"__main__\": \n",
    "    tag = 'ethereum'\n",
    "    print(list_of_most_used_words(tag))"
   ]
  },
  {
   "cell_type": "code",
   "execution_count": null,
   "metadata": {},
   "outputs": [],
   "source": []
  },
  {
   "cell_type": "code",
   "execution_count": null,
   "metadata": {},
   "outputs": [],
   "source": []
  },
  {
   "cell_type": "markdown",
   "metadata": {},
   "source": [
    "## author_name, link, post_date, readtime, upvotes, content, responses"
   ]
  },
  {
   "cell_type": "code",
   "execution_count": null,
   "metadata": {},
   "outputs": [],
   "source": []
  },
  {
   "cell_type": "code",
   "execution_count": 67,
   "metadata": {},
   "outputs": [
    {
     "name": "stdout",
     "output_type": "stream",
     "text": [
      "False\n"
     ]
    }
   ],
   "source": [
    "exclusions = '|'.join(exclusionList)\n",
    "first_word = re.sub(exclusions, '', first_word)"
   ]
  },
  {
   "cell_type": "code",
   "execution_count": 66,
   "metadata": {},
   "outputs": [
    {
     "name": "stdout",
     "output_type": "stream",
     "text": [
      "True\n"
     ]
    }
   ],
   "source": [
    "line = \"A Complete Mental Model for Ethereum dApp Development\"\n",
    "if \"ethereum\" in line.lower():\n",
    "    print(\"True\")\n",
    "else:\n",
    "    print(\"False\")"
   ]
  },
  {
   "cell_type": "code",
   "execution_count": null,
   "metadata": {},
   "outputs": [],
   "source": []
  },
  {
   "cell_type": "code",
   "execution_count": null,
   "metadata": {},
   "outputs": [],
   "source": []
  },
  {
   "cell_type": "code",
   "execution_count": null,
   "metadata": {},
   "outputs": [],
   "source": []
  },
  {
   "cell_type": "code",
   "execution_count": null,
   "metadata": {},
   "outputs": [],
   "source": []
  },
  {
   "cell_type": "code",
   "execution_count": null,
   "metadata": {},
   "outputs": [],
   "source": []
  },
  {
   "cell_type": "code",
   "execution_count": 142,
   "metadata": {},
   "outputs": [
    {
     "data": {
      "text/plain": [
       "['hello', 5]"
      ]
     },
     "execution_count": 142,
     "metadata": {},
     "output_type": "execute_result"
    }
   ],
   "source": [
    "a = ('hello', 5)\n",
    "a = list(a)\n",
    "a"
   ]
  },
  {
   "cell_type": "code",
   "execution_count": null,
   "metadata": {},
   "outputs": [],
   "source": []
  },
  {
   "cell_type": "code",
   "execution_count": 95,
   "metadata": {},
   "outputs": [
    {
     "data": {
      "text/plain": [
       "2"
      ]
     },
     "execution_count": 95,
     "metadata": {},
     "output_type": "execute_result"
    }
   ],
   "source": [
    "a = [['hello', 5], ['test', 6], ['egg', 2]]\n",
    "a.index(a[-1])"
   ]
  },
  {
   "cell_type": "code",
   "execution_count": null,
   "metadata": {},
   "outputs": [],
   "source": [
    "new.append(a[i])\n",
    "get_index = new.index(new[-1])\n",
    "new[get_index][1] = a[i][1] + b[j][1]"
   ]
  },
  {
   "cell_type": "code",
   "execution_count": 108,
   "metadata": {},
   "outputs": [
    {
     "data": {
      "text/plain": [
       "['egg']"
      ]
     },
     "execution_count": 108,
     "metadata": {},
     "output_type": "execute_result"
    }
   ],
   "source": [
    "a = [['hello', 5], ['test', 6], ['egg', 2]]\n",
    "b = [['cat', 5], ['dog', 6], ['hello', 3], ['test', 2]]\n",
    "c = []\n",
    "d = []\n",
    "\n",
    "for i in range(0,len(a)):\n",
    "    c.append(a[i][0])\n",
    "for i in range(0,len(b)):\n",
    "    d.append(b[i][0])\n",
    "    \n",
    "diff = list(set(c)-set(d))\n",
    "diff"
   ]
  },
  {
   "cell_type": "code",
   "execution_count": 149,
   "metadata": {},
   "outputs": [
    {
     "name": "stdout",
     "output_type": "stream",
     "text": [
      "[[8, 'test'], [8, 'hello'], [6, 'dog'], [5, 'cat'], [2, 'egg']]\n"
     ]
    }
   ],
   "source": [
    "\n",
    "def merge_two_lists(a, b):\n",
    "    data = {}\n",
    "    for pair in a+b:\n",
    "        key, value = pair\n",
    "        data[key] = data.get(key, 0) + value        \n",
    "    sorted_data = sorted([[value, key] for key, value in data.items()], reverse=True)\n",
    "    return sorted_data\n",
    "\n",
    "if __name__ == '__main__':\n",
    "    a = [['hello', 5], ['test', 6], ['egg', 2]]\n",
    "    b = [['cat', 5], ['dog', 6], ['hello', 3], ['test', 2]]\n",
    "    sorted_data = merge_two_lists(a, b)\n",
    "    print(sorted_data)"
   ]
  },
  {
   "cell_type": "code",
   "execution_count": null,
   "metadata": {},
   "outputs": [],
   "source": []
  },
  {
   "cell_type": "code",
   "execution_count": null,
   "metadata": {},
   "outputs": [],
   "source": []
  }
 ],
 "metadata": {
  "kernelspec": {
   "display_name": "Python 3",
   "language": "python",
   "name": "python3"
  },
  "language_info": {
   "codemirror_mode": {
    "name": "ipython",
    "version": 3
   },
   "file_extension": ".py",
   "mimetype": "text/x-python",
   "name": "python",
   "nbconvert_exporter": "python",
   "pygments_lexer": "ipython3",
   "version": "3.6.8"
  }
 },
 "nbformat": 4,
 "nbformat_minor": 2
}
