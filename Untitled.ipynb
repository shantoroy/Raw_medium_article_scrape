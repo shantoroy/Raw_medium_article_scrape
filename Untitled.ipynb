{
 "cells": [
  {
   "cell_type": "code",
   "execution_count": 1,
   "metadata": {},
   "outputs": [],
   "source": [
    "import time\n",
    "from bs4 import BeautifulSoup\n",
    "from selenium import webdriver\n",
    "import pandas as pd\n",
    "import urllib.request"
   ]
  },
  {
   "cell_type": "code",
   "execution_count": 2,
   "metadata": {},
   "outputs": [],
   "source": [
    "ethereum = \"https://medium.com/search?q=ethereum\""
   ]
  },
  {
   "cell_type": "code",
   "execution_count": 3,
   "metadata": {},
   "outputs": [],
   "source": [
    "driver = webdriver.Chrome('/home/mrx/Downloads/chromedriver')\n",
    "\n",
    "driver.get(ethereum)\n",
    "\n",
    "\n",
    "res = driver.execute_script(\"return document.documentElement.outerHTML\")\n",
    "driver.quit()\n",
    "\n",
    "soup = BeautifulSoup(res, 'lxml')"
   ]
  },
  {
   "cell_type": "code",
   "execution_count": 4,
   "metadata": {},
   "outputs": [],
   "source": [
    "links=[]\n",
    "for my_tag in soup.find_all(class_=\"button button--smaller button--chromeless u-baseColor--buttonNormal\"):\n",
    "        links.append(my_tag.get('href'))"
   ]
  },
  {
   "cell_type": "code",
   "execution_count": 6,
   "metadata": {},
   "outputs": [
    {
     "ename": "NameError",
     "evalue": "name 'y_tag' is not defined",
     "output_type": "error",
     "traceback": [
      "\u001b[0;31m---------------------------------------------------------------------------\u001b[0m",
      "\u001b[0;31mNameError\u001b[0m                                 Traceback (most recent call last)",
      "\u001b[0;32m<ipython-input-6-f90af2eca5b4>\u001b[0m in \u001b[0;36m<module>\u001b[0;34m\u001b[0m\n\u001b[1;32m     15\u001b[0m     \u001b[0mdate\u001b[0m \u001b[0;34m=\u001b[0m \u001b[0;34m[\u001b[0m\u001b[0;34m]\u001b[0m\u001b[0;34m\u001b[0m\u001b[0;34m\u001b[0m\u001b[0m\n\u001b[1;32m     16\u001b[0m     \u001b[0;32mfor\u001b[0m \u001b[0mmy_tag\u001b[0m \u001b[0;32min\u001b[0m \u001b[0mpage_soup\u001b[0m\u001b[0;34m.\u001b[0m\u001b[0mfind_all\u001b[0m\u001b[0;34m(\u001b[0m\u001b[0;34m'time'\u001b[0m\u001b[0;34m)\u001b[0m\u001b[0;34m:\u001b[0m\u001b[0;34m\u001b[0m\u001b[0;34m\u001b[0m\u001b[0m\n\u001b[0;32m---> 17\u001b[0;31m         \u001b[0mdate\u001b[0m\u001b[0;34m.\u001b[0m\u001b[0mappend\u001b[0m\u001b[0;34m(\u001b[0m\u001b[0my_tag\u001b[0m\u001b[0;34m.\u001b[0m\u001b[0mtext\u001b[0m\u001b[0;34m)\u001b[0m\u001b[0;34m\u001b[0m\u001b[0;34m\u001b[0m\u001b[0m\n\u001b[0m\u001b[1;32m     18\u001b[0m     \u001b[0mupvotes\u001b[0m\u001b[0;34m=\u001b[0m\u001b[0;34m[\u001b[0m\u001b[0;34m]\u001b[0m\u001b[0;34m\u001b[0m\u001b[0;34m\u001b[0m\u001b[0m\n\u001b[1;32m     19\u001b[0m     \u001b[0;32mfor\u001b[0m \u001b[0mmy_tag\u001b[0m \u001b[0;32min\u001b[0m \u001b[0mpage_soup\u001b[0m\u001b[0;34m.\u001b[0m\u001b[0mfind_all\u001b[0m\u001b[0;34m(\u001b[0m\u001b[0;34m'span'\u001b[0m\u001b[0;34m,\u001b[0m\u001b[0;34m{\u001b[0m\u001b[0;34m'class'\u001b[0m\u001b[0;34m:\u001b[0m\u001b[0;34m'u-relative u-background js-actionMultirecommendCount u-marginLeft5'\u001b[0m\u001b[0;34m}\u001b[0m\u001b[0;34m)\u001b[0m\u001b[0;34m:\u001b[0m\u001b[0;34m\u001b[0m\u001b[0;34m\u001b[0m\u001b[0m\n",
      "\u001b[0;31mNameError\u001b[0m: name 'y_tag' is not defined"
     ]
    }
   ],
   "source": [
    "for link in links:\n",
    "    init_dataframe = pd.DataFrame(columns=['A', 'B', 'C', 'D', 'E', 'F', 'G', 'H'])\n",
    "    page = urllib.request.Request(link, headers={'User-Agent': 'Mozilla/5.0'})\n",
    "    raw_page_data = urllib.request.urlopen(page).read()\n",
    "    page_soup = BeautifulSoup(raw_page_data, 'html.parser')\n",
    "    title = []\n",
    "    for my_tag in page_soup.find_all(True,{'class':['graf graf--h3 graf-after--figure graf--title','graf graf--h3 graf--leading graf--title','graf graf--h3 graf-after--figure graf--trailing graf--title']}):\n",
    "        title.append(my_tag.text)\n",
    "    name = []\n",
    "    for my_tag in page_soup.find_all(class_=\"ds-link ds-link--styleSubtle ui-captionStrong u-inlineBlock link link--darken link--darker\"):\n",
    "        name.append(my_tag.text)\n",
    "    read = []\n",
    "    for my_tag in page_soup.find_all(class_=\"readingTime\"):\n",
    "        read.append(my_tag.get('title'))\n",
    "    date = []\n",
    "    for my_tag in page_soup.find_all('time'):\n",
    "        date.append(y_tag.text)\n",
    "    upvotes=[]\n",
    "    for my_tag in page_soup.find_all('span',{'class':'u-relative u-background js-actionMultirecommendCount u-marginLeft5'}):\n",
    "        upvotes.append(my_tag.text)\n",
    "    news_body_list = []\n",
    "    news_body = \"\"\n",
    "    for paragraphs in page_soup.find_all(class_='graf graf--p graf-after--p'):\n",
    "        news_body+=paragraphs.text.rstrip().lstrip()\n",
    "    news_body_list.append(news_body)\n",
    "    res = []\n",
    "    for my_tag in page_soup.find_all('button',{'class':'button button--chromeless u-baseColor--buttonNormal u-marginRight12'}):\n",
    "        res.append(my_tag.text)"
   ]
  },
  {
   "cell_type": "code",
   "execution_count": null,
   "metadata": {},
   "outputs": [],
   "source": []
  }
 ],
 "metadata": {
  "kernelspec": {
   "display_name": "Python 3",
   "language": "python",
   "name": "python3"
  },
  "language_info": {
   "codemirror_mode": {
    "name": "ipython",
    "version": 3
   },
   "file_extension": ".py",
   "mimetype": "text/x-python",
   "name": "python",
   "nbconvert_exporter": "python",
   "pygments_lexer": "ipython3",
   "version": "3.6.8"
  }
 },
 "nbformat": 4,
 "nbformat_minor": 2
}
