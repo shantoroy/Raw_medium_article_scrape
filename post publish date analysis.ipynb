{
 "cells": [
  {
   "cell_type": "code",
   "execution_count": 1,
   "metadata": {},
   "outputs": [
    {
     "name": "stdout",
     "output_type": "stream",
     "text": [
      "No of Questions in StackOverflow = 1238\n",
      "0      2018-06-11\n",
      "1      2018-07-20\n",
      "2      2017-11-12\n",
      "3      2018-07-03\n",
      "4      2018-03-05\n",
      "5      2017-12-18\n",
      "6      2017-09-16\n",
      "7      2016-08-16\n",
      "8      2018-01-12\n",
      "9      2019-04-03\n",
      "10     2017-07-27\n",
      "11     2018-05-04\n",
      "12     2017-05-25\n",
      "13     2017-08-17\n",
      "14     2018-04-12\n",
      "15     2018-03-06\n",
      "16     2017-09-28\n",
      "17     2017-12-23\n",
      "18     2017-08-05\n",
      "19     2018-06-08\n",
      "20     2018-06-20\n",
      "21     2017-05-09\n",
      "22     2018-10-24\n",
      "23     2018-07-18\n",
      "24     2017-07-30\n",
      "25     2017-11-18\n",
      "26     2018-02-21\n",
      "27     2018-05-18\n",
      "28     2018-03-20\n",
      "29     2017-06-30\n",
      "          ...    \n",
      "1208   2017-08-11\n",
      "1209   2018-04-19\n",
      "1210   2017-11-26\n",
      "1211   2018-08-13\n",
      "1212   2018-04-18\n",
      "1213   2017-08-20\n",
      "1214   2018-06-28\n",
      "1215   2018-05-17\n",
      "1216   2017-08-18\n",
      "1217   2018-01-12\n",
      "1218   2017-11-09\n",
      "1219   2018-02-09\n",
      "1220   2018-06-03\n",
      "1221   2018-02-14\n",
      "1222   2018-11-26\n",
      "1223   2019-09-03\n",
      "1224   2018-05-31\n",
      "1225   2018-08-07\n",
      "1226   2018-04-23\n",
      "1227   2018-07-30\n",
      "1228   2018-06-14\n",
      "1229   2018-07-26\n",
      "1230   2018-01-26\n",
      "1231   2018-07-03\n",
      "1232   2018-07-24\n",
      "1233   2018-05-16\n",
      "1234   2018-05-07\n",
      "1235   2018-04-24\n",
      "1236   2018-03-12\n",
      "1237   2018-10-17\n",
      "Name: publish_date, Length: 1238, dtype: datetime64[ns]\n"
     ]
    },
    {
     "data": {
      "text/plain": [
       "<Figure size 640x480 with 1 Axes>"
      ]
     },
     "metadata": {},
     "output_type": "display_data"
    },
    {
     "data": {
      "text/plain": [
       "<Figure size 640x480 with 1 Axes>"
      ]
     },
     "metadata": {},
     "output_type": "display_data"
    },
    {
     "data": {
      "text/plain": [
       "<Figure size 640x480 with 6 Axes>"
      ]
     },
     "metadata": {},
     "output_type": "display_data"
    },
    {
     "data": {
      "text/plain": [
       "<Figure size 640x480 with 1 Axes>"
      ]
     },
     "metadata": {},
     "output_type": "display_data"
    }
   ],
   "source": [
    "import pandas as pd\n",
    "import csv\n",
    "import time\n",
    "import numpy as np\n",
    "from matplotlib import pyplot as plt\n",
    "from numpy import int32\n",
    "from datetime import datetime\n",
    "import operator\n",
    "\n",
    "data_sheet_Questions = pd.read_json('../conference_medium_data/author_data/related_data_rm_duplicacy.json', encoding='latin-1')\n",
    "\n",
    "\n",
    "\n",
    "Question_count = data_sheet_Questions.shape[0]\n",
    "\n",
    "print(\"No of Questions in StackOverflow = \"+format(Question_count))\n",
    "#print(data_sheet_Questions.CreationDate)\n",
    "# print(data_sheet.dtypes)\n",
    "data_sheet_Questions['publish_date'] = pd.to_datetime(data_sheet_Questions['publish_date'])\n",
    "print(data_sheet_Questions.publish_date)\n",
    "\n",
    "count19 = 0\n",
    "count18 = 0\n",
    "count17 = 0\n",
    "count16 = 0\n",
    "count15 = 0\n",
    "count14 = 0\n",
    "\n",
    "#l = data_sheet.sort_values(by='CreationDate')\n",
    "\n",
    "month2019 = [0] * 13\n",
    "month2018 = [0] * 13\n",
    "month2017 = [0] * 13\n",
    "month2016 = [0] * 13\n",
    "month2015 = [0] * 13\n",
    "month2014 = [0] * 13\n",
    "\n",
    "\n",
    "for k in data_sheet_Questions.publish_date:\n",
    "    date, time = str(k).split(\" \")  # Date and time splitting\n",
    "\n",
    "    # date parsing\n",
    "    y, m, d = date.split(\"-\")\n",
    "    if y == \"2019\":\n",
    "        m = int(m)\n",
    "        month2019[m] += 1\n",
    "        count19 += 1\n",
    "\n",
    "    elif y == \"2018\":\n",
    "        m = int(m)\n",
    "        month2018[m] += 1\n",
    "        count18 += 1\n",
    "\n",
    "\n",
    "    elif y == \"2017\":\n",
    "        m = int(m)\n",
    "        month2017[m] += 1\n",
    "        count17 += 1\n",
    "\n",
    "    elif y == \"2016\":\n",
    "        m = int(m)\n",
    "        month2016[m] += 1\n",
    "        count16 += 1\n",
    "\n",
    "    elif y == \"2015\":\n",
    "        m = int(m)\n",
    "        month2015[m] += 1\n",
    "        count15 += 1\n",
    "\n",
    "    elif y == \"2014\":\n",
    "        m = int(m)\n",
    "        month2014[m] += 1\n",
    "        count14 += 1\n",
    "\n",
    "\n",
    "f= open(\"No_of_Questions_PerMonthPerYear.txt\",\"w+\")\n",
    "f.write(\"\\t\\t\\t\\t2019\")\n",
    "f.write(\"\\n\\nNumber of total Questions in 2019 is = {}\\n\\n\".format(count19))\n",
    "#Only for month of 2019\n",
    "f.write(\" Month    No of Questions\")     #table column headings\n",
    "f.write(\"\\n------ \\t -------------\")\n",
    "for i in range(1,len(month2019)):\n",
    "    f.write(\"\\n{} \\t\\t\\t\\t {}\".format(i,month2019[i]))\n",
    "\n",
    "f.write(\"\\n\\n\\n\\t\\t\\t\\t2018\")\n",
    "f.write(\"\\n\\nNumber of total Questions in 2018 is = {}\\n\\n\".format(count18))\n",
    "#Only for month of 2018\n",
    "f.write(\" Month    No of Questions\")     #table column headings\n",
    "f.write(\"\\n------ \\t -------------\")\n",
    "for i in range(1,len(month2018)):\n",
    "    f.write(\"\\n{} \\t\\t\\t\\t {}\".format(i,month2018[i]))\n",
    "\n",
    "f.write(\"\\n\\n\\n\\t\\t\\t\\t2017\")\n",
    "f.write(\"\\n\\nNumber of total Questions in 2017 is = {}\\n\\n\".format(count17))\n",
    "# Only for month of 2017\n",
    "f.write(\" Month    No of Questions\")  # table column headings\n",
    "f.write(\"\\n------ \\t -------------\")\n",
    "for i in range(1, len(month2017)):\n",
    "    f.write(\"\\n{} \\t\\t\\t\\t {}\".format(i, month2017[i]))\n",
    "\n",
    "\n",
    "f.write(\"\\n\\n\\n\\t\\t\\t\\t2016\")\n",
    "f.write(\"\\n\\nNumber of total Questions in 2016 is = {}\\n\\n\".format(count16))\n",
    "# Only for month of 2016\n",
    "f.write(\" Month    No of Questions\")  # table column headings\n",
    "f.write(\"\\n------ \\t -------------\")\n",
    "for i in range(1, len(month2016)):\n",
    "    f.write(\"\\n{} \\t\\t\\t\\t {}\".format(i, month2016[i]))\n",
    "\n",
    "\n",
    "f.write(\"\\n\\n\\n\\t\\t\\t\\t2015\")\n",
    "f.write(\"\\n\\nNumber of total Questions in 2015 is = {}\\n\\n\".format(count15))\n",
    "# Only for month of 2015\n",
    "f.write(\" Month    No of Questions\")  # table column headings\n",
    "f.write(\"\\n------ \\t -------------\")\n",
    "for i in range(1, len(month2015)):\n",
    "    f.write(\"\\n{} \\t\\t\\t\\t {}\".format(i, month2015[i]))\n",
    "\n",
    "\n",
    "f.write(\"\\n\\n\\n\\t\\t\\t\\t2014\")\n",
    "f.write(\"\\n\\nNumber of total Questions in 2014 is = {}\\n\\n\".format(count14))\n",
    "# Only for month of 2014\n",
    "f.write(\" Month    No of Questions\")  # table column headings\n",
    "f.write(\"\\n------ \\t -------------\")\n",
    "for i in range(1, len(month2014)):\n",
    "    f.write(\"\\n{} \\t\\t\\t\\t {}\".format(i, month2014[i]))\n",
    "\n",
    "f.close()\n",
    "\n",
    "\n",
    "\n",
    "years=['2014', '2015', '2016', '2017', '2018', '2019']\n",
    "y_pos=np.arange(len(years))\n",
    "plt.bar(y_pos,[count14,count15,count16,count17,count18,count19])\n",
    "plt.xticks(y_pos, years)\n",
    "\n",
    "plt.ylabel('No of Questions')\n",
    "plt.title(\"Questions from May 14 - January 19\")\n",
    "plt.show()\n",
    "\n",
    "\n",
    "\n",
    "months=['Jan','Feb','Mar','Apr','May','Jun','Jul','Aug','Sep','Oct','Nov','Dec']\n",
    "y_pos=np.arange(len(months))\n",
    "\n",
    "plt.gca()\n",
    "plt.plot(months,month2019[1:])\n",
    "plt.plot(month2018[1:])\n",
    "plt.plot(month2017[1:])\n",
    "plt.plot(month2016[1:])\n",
    "plt.plot(month2015[1:])\n",
    "plt.plot(month2014[1:])\n",
    "plt.title(\"Questions on Smart Contracts Over Years\")\n",
    "plt.legend(['Monthly Questions for 2019', 'Monthly Questions for 2018', 'Monthly Questions for 2017', 'Monthly Questions for 2016', 'Monthly Questions for 2015', 'Monthly Questions for 2014'], loc='upper right')\n",
    "plt.show()\n",
    "\n",
    "\n",
    "f = plt.figure()\n",
    "ax=f.add_subplot(231)\n",
    "ax.set_ylim([0, 300])\n",
    "plt.bar(y_pos, month2019[1:])\n",
    "plt.xticks(y_pos, months)\n",
    "plt.ylabel('No of Questions in 2019')\n",
    "plt.title(\"No of Monthly Questions of 2019\")\n",
    "\n",
    "ax=f.add_subplot(232)\n",
    "ax.set_ylim([0, 300])\n",
    "plt.bar(y_pos, month2018[1:])\n",
    "plt.xticks(y_pos, months)\n",
    "plt.ylabel('No of Questions in 2018')\n",
    "plt.title(\"No of Monthly Questions of 2018\")\n",
    "\n",
    "ax=f.add_subplot(233)\n",
    "ax.set_ylim([0, 300])\n",
    "plt.bar(y_pos, month2017[1:])\n",
    "plt.xticks(y_pos, months)\n",
    "plt.ylabel('No of Questions in 2017')\n",
    "plt.title(\"No of Monthly Questions of 2017\")\n",
    "\n",
    "ax=f.add_subplot(234)\n",
    "ax.set_ylim([0, 300])\n",
    "plt.bar(y_pos, month2016[1:])\n",
    "plt.xticks(y_pos, months)\n",
    "plt.ylabel('No of Questions in 2016')\n",
    "plt.title(\"No of Monthly Questions of 2016\")\n",
    "\n",
    "ax=f.add_subplot(235)\n",
    "ax.set_ylim([0, 300])\n",
    "plt.bar(y_pos, month2015[1:])\n",
    "plt.xticks(y_pos, months)\n",
    "plt.ylabel('No of Questions in 2015')\n",
    "plt.title(\"No of Monthly Questions of 2015\")\n",
    "\n",
    "ax=f.add_subplot(236)\n",
    "ax.set_ylim([0, 300])\n",
    "plt.bar(y_pos, month2014[1:])\n",
    "plt.xticks(y_pos, months)\n",
    "plt.ylabel('No of Questions in 2014')\n",
    "plt.title(\"No of Monthly Questions of 2014\")\n",
    "\n",
    "plt.show()\n",
    "# the x locations for the groups\n",
    "# ax = plt.subplot(111)\n",
    "\n",
    "\n",
    "\n",
    "\n",
    "width = 0.20\n",
    "Months=['January','February','March','April','May','June','July','August','September','October','November','December']\n",
    "fig = plt.figure()\n",
    "ax = fig.add_subplot(111)\n",
    "#for i in range(len(month2018)):\n",
    "Q2019 = ax.bar(y_pos, month2019[1:], width, color='red')\n",
    "Q2018 = ax.bar(y_pos+width, month2018[1:], width, color='green')\n",
    "Q2017 = ax.bar(y_pos+width*2, month2017[1:], width, color='blue')\n",
    "Q2016 = ax.bar(y_pos+width*3, month2016[1:], width, color='orange')\n",
    "Q2015 = ax.bar(y_pos+width*4, month2015[1:], width, color='purple')\n",
    "Q2014 = ax.bar(y_pos+width*5, month2014[1:], width, color='black')\n",
    "ax.legend( ([Q2019, Q2018, Q2017, Q2016, Q2015, Q2014]), ('2019', '2018', '2017','2016', '2015', '2014') )\n",
    "ax.set_ylabel('No of Questions')\n",
    "ax.set_xticks(y_pos+width)\n",
    "ax.set_xticklabels(Months)\n",
    "plt.show()"
   ]
  },
  {
   "cell_type": "code",
   "execution_count": 2,
   "metadata": {},
   "outputs": [
    {
     "data": {
      "image/png": "[encoded data removed]",
      "text/plain": [
       "<Figure size 432x288 with 1 Axes>"
      ]
     },
     "metadata": {
      "needs_background": "light"
     },
     "output_type": "display_data"
    }
   ],
   "source": [
    "y_pos = np.arange(72)\n",
    "years = [\"Jan 2014\", \"Jan 2015\", \"Jan 2016\", \"Jan 2017\", \"Jan 2018\", \"Jan 2019\"]\n",
    "f = plt.figure()\n",
    "ax.set_ylim([0, 300])\n",
    "plt.bar(y_pos, month2014[1:]+month2015[1:]+month2016[1:]+month2017[1:]+month2018[1:]+month2019[1:])\n",
    "# width = 0.25\n",
    "plt.xticks(range(1,72,12), years)\n",
    "plt.ylabel('No of Posts')\n",
    "plt.title(\"Number of posts over the time\")\n",
    "#plt.show()\n",
    "plt.savefig('posts_over_time.png', bbox_inches='tight')"
   ]
  },
  {
   "cell_type": "code",
   "execution_count": 5,
   "metadata": {},
   "outputs": [
    {
     "data": {
      "image/png": "[encoded data removed]",
      "text/plain": [
       "<Figure size 432x288 with 1 Axes>"
      ]
     },
     "metadata": {},
     "output_type": "display_data"
    }
   ],
   "source": [
    "import matplotlib.pyplot as plt\n",
    "\n",
    "# Data to plot\n",
    "labels = 'No Response', '1 response', '2 responses', '3 responses', '4 responses', '5 responses'\\\n",
    "            , '6-10 responses', '100 or more responses'\n",
    "sizes = [437, 183, 81, 75, 57, 49, 318, 14]\n",
    "colors = ['sandybrown', 'lightcoral', 'limegreen', 'cornflowerblue', 'palevioletred', 'darkgray', 'y', 'c']\n",
    "explode = (0.1, 0, 0, 0, 0, 0, 0, 0)  # explode 1st slice\n",
    "\n",
    "# Plot\n",
    "plt.pie(sizes, explode=explode, labels=labels, colors=colors,\n",
    "autopct='%1.1f%%', shadow=True, startangle=140)\n",
    "\n",
    "plt.axis('equal')\n",
    "plt.savefig('response_chart.png', bbox_inches='tight')"
   ]
  },
  {
   "cell_type": "markdown",
   "metadata": {},
   "source": [
    "Write a function that takes a string as input, and performs the following change as recommended by the marketing department: Replace all occurrences of substrings 'good', and 'acceptable’ with the substring 'fantastic'.\n",
    "\n",
    "Write a program that takes a string as input and identifies and prints if it is a palindrome or not. (A palindrome is a string that is identical when read forward or backward E.g. racecar, abba) Hint: You can try to use negative indices in For or While loop."
   ]
  },
  {
   "cell_type": "code",
   "execution_count": 21,
   "metadata": {},
   "outputs": [
    {
     "name": "stdout",
     "output_type": "stream",
     "text": [
      "Enter a string: heeh\n",
      "Palindrome\n"
     ]
    }
   ],
   "source": []
  },
  {
   "cell_type": "code",
   "execution_count": 17,
   "metadata": {},
   "outputs": [
    {
     "data": {
      "text/plain": [
       "'olleh'"
      ]
     },
     "execution_count": 17,
     "metadata": {},
     "output_type": "execute_result"
    }
   ],
   "source": [
    "a = \"hello\"\n",
    "a[::-1]"
   ]
  },
  {
   "cell_type": "code",
   "execution_count": null,
   "metadata": {},
   "outputs": [],
   "source": []
  }
 ],
 "metadata": {
  "kernelspec": {
   "display_name": "Python 3",
   "language": "python",
   "name": "python3"
  },
  "language_info": {
   "codemirror_mode": {
    "name": "ipython",
    "version": 3
   },
   "file_extension": ".py",
   "mimetype": "text/x-python",
   "name": "python",
   "nbconvert_exporter": "python",
   "pygments_lexer": "ipython3",
   "version": "3.6.8"
  }
 },
 "nbformat": 4,
 "nbformat_minor": 2
}
