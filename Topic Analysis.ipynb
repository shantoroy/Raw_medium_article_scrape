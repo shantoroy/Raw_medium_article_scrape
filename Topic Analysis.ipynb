{
 "cells": [
  {
   "cell_type": "code",
   "execution_count": null,
   "metadata": {},
   "outputs": [],
   "source": [
    "import nltk\n",
    "from nltk import PorterStemmer\n",
    "import pandas as pd\n",
    "from collections import Counter\n",
    "from nltk.corpus import stopwords\n",
    "from nltk.stem.wordnet import WordNetLemmatizer\n",
    "import string\n",
    "import gensim\n",
    "from gensim import corpora\n",
    "\n",
    "df = pd.read_json('all_post.json')\n",
    "QATags = df.QA_For_TopicAnalysis\n",
    "# print(QATags)\n",
    "QATags = list(QATags)\n",
    "# print(QATags[:10])\n",
    "\n",
    "stop = set(stopwords.words('english'))\n",
    "exclude = set(string.punctuation)\n",
    "lemma = WordNetLemmatizer()\n",
    "\n",
    "def clean(doc):\n",
    "    stop_free = \" \".join([i for i in doc.lower().split() if i not in stop])\n",
    "    # print(stop_free)\n",
    "    punc_free = ''.join(ch for ch in stop_free if ch not in exclude)\n",
    "    # print(punc_free)\n",
    "    normalized = \" \".join(lemma.lemmatize(word) for word in punc_free.split())\n",
    "    return normalized\n",
    "\n",
    "Text_clean = [clean(doc).split() for doc in QATags]\n",
    "\n",
    "\n",
    "# word_dict = gensim.corpora.Dictionary(Text_clean)\n",
    "# print(word_dict)\n",
    "\n",
    "dictionary = corpora.Dictionary(Text_clean)\n",
    "doc_term_matrix = [dictionary.doc2bow(doc) for doc in Text_clean]\n",
    "\n",
    "# Creating the object for LDA model using gensim library\n",
    "Lda = gensim.models.ldamodel.LdaModel\n",
    "\n",
    "# Running and Trainign LDA model on the document term matrix.\n",
    "f = open(\"Topic Analysis.txt\", \"w+\")\n",
    "for x in range(5,16):\n",
    "    ldamodel = Lda(doc_term_matrix, num_topics=x, id2word = dictionary, passes=100, iterations=15000)\n",
    "    f.write(f\"\\n\\nNo of Topics : {x}\\n\\n\")\n",
    "    print(f\"\\n\\nNo of Topics : {x}\\n\\n\")\n",
    "    for idx, topic in ldamodel.print_topics(-1):\n",
    "        f.write('\\nTopic: {} ---- Words: {}'.format(idx, topic))\n",
    "        print('Topic: {} ---- Words: {}'.format(idx, topic))\n",
    "\n",
    "    f.write('-' * 200)\n",
    "f.close()"
   ]
  }
 ],
 "metadata": {
  "kernelspec": {
   "display_name": "Python 3",
   "language": "python",
   "name": "python3"
  },
  "language_info": {
   "codemirror_mode": {
    "name": "ipython",
    "version": 3
   },
   "file_extension": ".py",
   "mimetype": "text/x-python",
   "name": "python",
   "nbconvert_exporter": "python",
   "pygments_lexer": "ipython3",
   "version": "3.6.8"
  }
 },
 "nbformat": 4,
 "nbformat_minor": 2
}
